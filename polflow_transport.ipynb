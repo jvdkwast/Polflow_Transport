{
 "cells": [
  {
   "cell_type": "markdown",
   "id": "5384e38f-6099-4625-b393-95d6796f6e06",
   "metadata": {},
   "source": [
    "# Preface\n",
    "These exercises have been originally developed in Dutch for \"Lerarenopleiding Aardrijkskunde\" at Fontys Hogeschool in Tilburg in close cooperation with Dr. T.H.G. Wils. After the first experiences the exercises have been improved and used in a course for Hogeschool Rotterdam. I'm thankful for the didactic advice from Dr. Wils and the useful experiences we had in demonstrating the power of modelling to non-modellers. The course has been published in \"Geografie\", the journal of the Dutch Geography Association.\n",
    "\n",
    "For the IHE Delft Water Quality Assessment Module the course has been translated and slightly adapted. I hope that the course will help the participant to understand in general terms how models are constructed, calibrated and can be used in decision making. Because models are used in many fields, this expertise is not only useful for modellers, but for a wider audience.\n",
    "\n",
    "The PolFlow-Scheldt model has been developed during my work at the Flemish Institute for Technological Research (VITO) in cooperation with the Institute for Environmental Studies (IVM), Deltares and Dr. Willem van Deursen, in the frame of the EU FP7 SPICOSA project.\n",
    "\n",
    "Dr. J. van der Kwast\n",
    "Delft, February 18, 2013\n",
    "\n",
    "*Updated to PCRaster Python in October 2017*\n",
    "\n",
    "*Updated to eCampus online quiz in April 2017*\n",
    "\n",
    "*Updated and simplified for use in Jupter Notebook in April 2023*"
   ]
  },
  {
   "cell_type": "markdown",
   "id": "2464d5d7-a0b2-4d3d-880d-cc7b3abb971d",
   "metadata": {},
   "source": [
    "# 1. Introduction\n",
    "The purpose of these exercises is to get an idea of the nature and applicability of spatial-dynamic models for the assessment of policies. Spatial dynamic models are models that perform calculations in both the spatial (GIS maps) and the temporal dimension. Eventually you will simulate what impact climate change and environmental policies can have on nitrogen pollution in the Scheldt river.\n",
    "\n",
    "Looking into this model gives you an insight into how scientists and policymakers try to estimate what happens under what circumstances: the computation of so-called what-if scenarios. This is important in order to understand, for example, the discussion on climate change and the effects of policy choices.\n",
    "\n",
    "During these exercises, we will study the transport module of the PolFlow - Scheldt model in detail, which has been discussed during the lecture. This module models the transport of nitrogen in surface waters of the Scheldt and its tributaries. Nitrogen is a fertilizer which causes damage to the environment because it can cause algae bloom. Algae take up much oxygen, killing the fish in the water. This environmental problem is called eutrophication.\n",
    "\n",
    "The PolFlow - Scheldt model has been developed using the PCRaster environmental modelling language, a computer language for constructing spatial and dynamic models. The models are iterative, which means that for each time step of the model, the same calculations are done repeatedly, but that the results of the calculations are passed as input to the next time step.\n",
    "\n",
    "The PCRaster modelling language uses a set of more than 120 spatial and temporal operators. Operators are commands that the computer uses to perform certain mathematical operations. The operators of the PCRaster modelling language are specifically designed for spatial and spatial-dynamic models. This has the advantage that the models and their structure are in line with the conceptual framework of spatial-dynamic sciences like geography and geology. It offers the opportunity for researchers to construct models themselves in a relatively short time, even if they have no experience with programming. Models constructed with the PCRaster Environmental Modelling language can easily be modified or extended. Results can be directly evaluated in PCRaster's own GIS environment, which offers visualization tools for spatial-temporal data. The exchange with other GIS systems is also simple. The PCRaster software can be downloaded for free from http://pcraster.geo.uu.nl. Here you can also register for courses. Other courses can be found at [GIS OpenCourseWare](https://courses.gisopencourseware.org/).\n",
    "\n",
    "For these exercises we'll use this Jupyter Notebook, which will guide you in an interactive way through the transport module of the POLFLOW model.\n",
    "\n",
    "During the exerices the following topics will be covered:\n",
    "* Visualisation of input/output data\n",
    "    * Non spatial (tables)\n",
    "    * Spatial 2D (maps)\n",
    "    * Spatial 2.5D (drapes)\n",
    "    * Spatial-temporal (animations and graphs)\n",
    "* Introduction to map algebra\n",
    "* Introduction to scripting\n",
    "* Sensitivity analysis, calibration and scenarios."
   ]
  },
  {
   "cell_type": "markdown",
   "id": "bda571db-7b59-4ac5-bf52-f6db0e4ff393",
   "metadata": {},
   "source": [
    "# 2. The POLFLOW Transport Module\n",
    "The transportmodule of the PolFlow - Scheldt model calculates how nitrogen, that enters the surface water through point and diffuse sources, is moving through the catchment and eventually reaches the estuary of the Scheldt. A point source, for example, is an industry that discharges nitrogen at one specific point in the river. A diffuse source, for example, is a farmer who rides out his manure here and there on his pastures.\n",
    "Through denitrification, which is the process where bacteria convert nitrate (NO<sub>3</sub><sup>-</sup>) in nitrogen gas, a part of the nitrogen will be removed from the surface water. Another part of the nitrogen is assimilated by algae and macrophytes living in the water. This nitrogen removal from the surface water is modelled using a function that calculates the transport fraction (`tf`). The transport fraction is the amount of nitrogen that leaves a gridcell divided by the total amount of nitrogen entering a gridcell. It is calculated with this equation:\n",
    "\n",
    "$tf = \\frac{1}{1 +((rn_1 * ((1000 * S) + 1)) * Q^{rn_2}}$\n",
    "\n",
    "with $S$ the slope of the terrain $\\frac{dz}{dx}$ and $Q$ \\[m<sup>3</sup>/s\\] the river discharge. $rn_1$ and $rn_2$ are calibration parameters. These calibration parameters are estimated by comparing the model results with measured values. Therefore, we call this function 'empirical'."
   ]
  },
  {
   "cell_type": "markdown",
   "id": "610ea6dc-d986-446e-866b-9a0105933f57",
   "metadata": {},
   "source": [
    "# 3. Visualisation of the inputs in 2D\n",
    "During this exercise we are going to inspect the input data of the transport module. GIS models can consist of different types of input data:\n",
    "\n",
    "* Non spatial (tables)\n",
    "* Spatial 2D (maps)\n",
    "* Spatial 2.5D (drapes)\n",
    "* Spatial-temporal (animations and graphs)\n",
    "\n",
    "## 3.1 Visualisation of the input maps\n",
    "Now we're going to inspect the input maps. They have the.map file extension. The following maps can be found in the folder of the model:\n",
    "\n",
    "> You can execute lines in this Jupyter Notebook by typing Shift-Enter"
   ]
  },
  {
   "cell_type": "code",
   "execution_count": 2,
   "id": "92483cca-fca5-4cb8-995f-476cb50473af",
   "metadata": {
    "tags": []
   },
   "outputs": [
    {
     "name": "stdout",
     "output_type": "stream",
     "text": [
      " Volume in drive D is Data\n",
      " Volume Serial Number is 78E1-4854\n",
      "\n",
      " Directory of D:\\Polflow\n",
      "\n",
      "28/05/2008  12:22            42,826 catchment.map\n",
      "19/08/2008  16:31           170,536 dem.map\n",
      "08/07/2008  10:04            42,826 ldd.map\n",
      "17/02/2010  11:51           170,536 rupelmonde.map\n",
      "               4 File(s)        426,724 bytes\n",
      "               0 Dir(s)  493,184,262,144 bytes free\n"
     ]
    }
   ],
   "source": [
    "!dir *.map"
   ]
  },
  {
   "cell_type": "markdown",
   "id": "145c4e7f-f3ca-45c7-8f57-580de0deafd8",
   "metadata": {},
   "source": [
    "* _catchment.map_: a map showing the catchment of the Scheldt river\n",
    "* _dem.map_: an elevation map of the Scheldt catchment. Units: meters above sea level\n",
    "* _ldd.map_: a local drain direction (ldd) map with the direction of water flow for each grid cell\n",
    "* _rupelmonde.map_: a map with a location for which we report the model results.\n",
    "\n",
    "Let's have a look at the _ldd.map_ raster:"
   ]
  },
  {
   "cell_type": "code",
   "execution_count": 8,
   "id": "7b91a5df-698e-4f7c-8a35-77adf35456c8",
   "metadata": {
    "tags": []
   },
   "outputs": [
    {
     "ename": "NameError",
     "evalue": "name 'show' is not defined",
     "output_type": "error",
     "traceback": [
      "\u001b[1;31m---------------------------------------------------------------------------\u001b[0m",
      "\u001b[1;31mNameError\u001b[0m                                 Traceback (most recent call last)",
      "Cell \u001b[1;32mIn[8], line 3\u001b[0m\n\u001b[0;32m      1\u001b[0m \u001b[38;5;28;01mfrom\u001b[39;00m \u001b[38;5;21;01mpcraster\u001b[39;00m \u001b[38;5;28;01mimport\u001b[39;00m \u001b[38;5;241m*\u001b[39m\n\u001b[0;32m      2\u001b[0m LDD \u001b[38;5;241m=\u001b[39m readmap(\u001b[38;5;124m\"\u001b[39m\u001b[38;5;124mldd.map\u001b[39m\u001b[38;5;124m\"\u001b[39m)\n\u001b[1;32m----> 3\u001b[0m \u001b[43mshow\u001b[49m(LDD)\n",
      "\u001b[1;31mNameError\u001b[0m: name 'show' is not defined"
     ]
    }
   ],
   "source": [
    "from pcraster import *\n",
    "LDD = readmap(\"ldd.map\")\n",
    "show(LDD)"
   ]
  },
  {
   "cell_type": "markdown",
   "id": "a8aec8cd-0b03-4b23-b203-7b98f90fedc9",
   "metadata": {},
   "source": [
    "Use the scroll button of the mouse to zoom in and out. You need to zoom in quite a bit to see the flow lines. Click the <img src=\"crosshair.png\" alt=\"crosshair icon\"> icon to evaluate the values of the pixels.\n",
    "\n",
    "**Question 1: What kind of values do you find in the ldd map?**"
   ]
  },
  {
   "cell_type": "markdown",
   "id": "03bec9a6-ecc2-478f-9deb-7c426734542d",
   "metadata": {},
   "source": []
  },
  {
   "cell_type": "markdown",
   "id": "44af049b-a58f-4a20-8830-9420e047bbbb",
   "metadata": {},
   "source": [
    "**Question 2: Where is the outflow point of the catchment and how can you see that?**"
   ]
  },
  {
   "cell_type": "markdown",
   "id": "078d75fa-093f-42e0-a8ab-be64deecbfb0",
   "metadata": {},
   "source": []
  },
  {
   "cell_type": "markdown",
   "id": "0a199b64-3fd1-4d3f-8060-b64fadf2bd28",
   "metadata": {},
   "source": [
    "Close the maps by choosing in the menu **File | Exit**"
   ]
  },
  {
   "cell_type": "markdown",
   "id": "e54a2f54-a1c0-433c-949f-42f40b461d82",
   "metadata": {},
   "source": [
    "We can also compare several maps together and read their pixel values for a specific cell location. Let's have a look at the DEM and the outlet of the catchment."
   ]
  },
  {
   "cell_type": "code",
   "execution_count": 9,
   "id": "2a995251-7331-427d-8058-6772f482e4d1",
   "metadata": {
    "tags": []
   },
   "outputs": [],
   "source": [
    "aguila(\"dem.map\",\"rupelmonde.map\")"
   ]
  },
  {
   "cell_type": "markdown",
   "id": "e22cfb79-d8fd-49ed-8172-1b35fc0373cb",
   "metadata": {},
   "source": [
    "It is still difficult to find Rupelmonde, because of the colours in the map. Change the legend of *dem.map* by double clicking the legend. Next, click on the colour scale and choose a colour scale from black to white and click *Ok*, Apply and again *Ok* to return to the map. Rupelmonde is now visible as a red dot."
   ]
  },
  {
   "cell_type": "markdown",
   "id": "5e31e485-593f-4461-9834-36e51b91cdca",
   "metadata": {},
   "source": [
    "**Question 3: What is the average elevation of the 1 km<sup>2</sup> pixel at Rupelmonde? Also give units.**"
   ]
  },
  {
   "cell_type": "markdown",
   "id": "b58fcadd-5ad2-4148-b693-c5cf257aa33d",
   "metadata": {},
   "source": []
  },
  {
   "cell_type": "markdown",
   "id": "e06a8d2f-4a4d-451c-a84a-36cc5ee90afe",
   "metadata": {},
   "source": [
    "## 3.2 Visualisation of the input maps in 2.5D\n",
    "Elevation data can be better explored when visualised in perspective. This is called 2.5D visualisation, because you need special 3D glasses for viewing 3D. Here you only see the 3D effect because of shading and the perspective. We are going to visualise *dem.map* in 2.5D. "
   ]
  },
  {
   "cell_type": "code",
   "execution_count": 11,
   "id": "3d72d725-6220-4753-8ebc-f93b9a738b51",
   "metadata": {
    "tags": []
   },
   "outputs": [],
   "source": [
    "!aguila -3 dem.map + dem.map"
   ]
  },
  {
   "cell_type": "code",
   "execution_count": null,
   "id": "22475a83-4dcd-49e1-814b-2fa4e8b91cd8",
   "metadata": {},
   "outputs": [],
   "source": []
  },
  {
   "cell_type": "code",
   "execution_count": null,
   "id": "8b94a1db-8ce0-4b46-873e-3f5fc0a0935c",
   "metadata": {},
   "outputs": [],
   "source": []
  }
 ],
 "metadata": {
  "kernelspec": {
   "display_name": "Python 3 (ipykernel)",
   "language": "python",
   "name": "python3"
  },
  "language_info": {
   "codemirror_mode": {
    "name": "ipython",
    "version": 3
   },
   "file_extension": ".py",
   "mimetype": "text/x-python",
   "name": "python",
   "nbconvert_exporter": "python",
   "pygments_lexer": "ipython3",
   "version": "3.11.2"
  }
 },
 "nbformat": 4,
 "nbformat_minor": 5
}
