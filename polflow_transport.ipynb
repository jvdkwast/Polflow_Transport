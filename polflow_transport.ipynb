{
 "cells": [
  {
   "cell_type": "markdown",
   "id": "5384e38f-6099-4625-b393-95d6796f6e06",
   "metadata": {},
   "source": [
    "# Preface\n",
    "These exercises have been originally developed in Dutch for \"Lerarenopleiding Aardrijkskunde\" at Fontys Hogeschool in Tilburg in close cooperation with Dr. T.H.G. Wils. After the first experiences the exercises have been improved and used in a course for Hogeschool Rotterdam. I'm thankful for the didactic advice from Dr. Wils and the useful experiences we had in demonstrating the power of modelling to non-modellers. The course has been published in \"Geografie\", the journal of the Dutch Geography Association.\n",
    "\n",
    "For the IHE Delft Water Quality Assessment Module the course has been translated and slightly adapted. I hope that the course will help the participant to understand in general terms how models are constructed, calibrated and can be used in decision making. Because models are used in many fields, this expertise is not only useful for modellers, but for a wider audience.\n",
    "\n",
    "The PolFlow-Scheldt model has been developed during my work at the Flemish Institute for Technological Research (VITO) in cooperation with the Institute for Environmental Studies (IVM), Deltares and Dr. Willem van Deursen, in the frame of the EU FP7 SPICOSA project.\n",
    "\n",
    "Dr. J. van der Kwast\n",
    "Delft, February 18, 2013\n",
    "\n",
    "*Updated to PCRaster Python in October 2017*\n",
    "\n",
    "*Updated to eCampus online quiz in April 2017*\n",
    "\n",
    "*Updated and simplified for use in Jupter Notebook in April 2023*"
   ]
  },
  {
   "cell_type": "markdown",
   "id": "2464d5d7-a0b2-4d3d-880d-cc7b3abb971d",
   "metadata": {},
   "source": [
    "# 1. Introduction\n",
    "The purpose of these exercises is to get an idea of the nature and applicability of spatial-dynamic models for the assessment of policies. Spatial dynamic models are models that perform calculations in both the spatial (GIS maps) and the temporal dimension. Eventually you will simulate what impact climate change and environmental policies can have on nitrogen pollution in the Scheldt river.\n",
    "\n",
    "Looking into this model gives you an insight into how scientists and policymakers try to estimate what happens under what circumstances: the computation of so-called what-if scenarios. This is important in order to understand, for example, the discussion on climate change and the effects of policy choices.\n",
    "\n",
    "During these exercises, we will study the transport module of the PolFlow - Scheldt model in detail, which has been discussed during the lecture. This module models the transport of nitrogen in surface waters of the Scheldt and its tributaries. Nitrogen is a fertilizer which causes damage to the environment because it can cause algae bloom. Algae take up much oxygen, killing the fish in the water. This environmental problem is called eutrophication.\n",
    "\n",
    "The PolFlow - Scheldt model has been developed using the PCRaster environmental modelling language, a computer language for constructing spatial and dynamic models. The models are iterative, which means that for each time step of the model, the same calculations are done repeatedly, but that the results of the calculations are passed as input to the next time step.\n",
    "\n",
    "The PCRaster modelling language uses a set of more than 120 spatial and temporal operators. Operators are commands that the computer uses to perform certain mathematical operations. The operators of the PCRaster modelling language are specifically designed for spatial and spatial-dynamic models. This has the advantage that the models and their structure are in line with the conceptual framework of spatial-dynamic sciences like geography and geology. It offers the opportunity for researchers to construct models themselves in a relatively short time, even if they have no experience with programming. Models constructed with the PCRaster Environmental Modelling language can easily be modified or extended. Results can be directly evaluated in PCRaster's own GIS environment, which offers visualization tools for spatial-temporal data. The exchange with other GIS systems is also simple. The PCRaster software can be downloaded for free from http://pcraster.geo.uu.nl. Here you can also register for courses. Other courses can be found at [GIS OpenCourseWare](https://courses.gisopencourseware.org/).\n",
    "\n",
    "For these exercises we'll use this Jupyter Notebook, which will guide you in an interactive way through the transport module of the POLFLOW model.\n",
    "\n",
    "During the exerices the following topics will be covered:\n",
    "* Visualisation of input/output data\n",
    "    * Non spatial (tables)\n",
    "    * Spatial 2D (maps)\n",
    "    * Spatial 2.5D (drapes)\n",
    "    * Spatial-temporal (animations and graphs)\n",
    "* Introduction to map algebra\n",
    "* Introduction to scripting\n",
    "* Sensitivity analysis, calibration and scenarios."
   ]
  },
  {
   "cell_type": "markdown",
   "id": "bda571db-7b59-4ac5-bf52-f6db0e4ff393",
   "metadata": {},
   "source": [
    "# 2. The POLFLOW Transport Module\n",
    "The transportmodule of the PolFlow - Scheldt model calculates how nitrogen, that enters the surface water through point and diffuse sources, is moving through the catchment and eventually reaches the estuary of the Scheldt. A point source, for example, is an industry that discharges nitrogen at one specific point in the river. A diffuse source, for example, is a farmer who rides out his manure here and there on his pastures.\n",
    "Through denitrification, which is the process where bacteria convert nitrate (NO<sub>3</sub><sup>-</sup>) in nitrogen gas, a part of the nitrogen will be removed from the surface water. Another part of the nitrogen is assimilated by algae and macrophytes living in the water. This nitrogen removal from the surface water is modelled using a function that calculates the transport fraction (`tf`). The transport fraction is the amount of nitrogen that leaves a gridcell divided by the total amount of nitrogen entering a gridcell. It is calculated with this equation:\n",
    "\n",
    "$tf = \\frac{1}{1 +((rn_1 * ((1000 * S) + 1)) * Q^{rn_2}}$\n",
    "\n",
    "with $S$ the slope of the terrain $\\frac{dz}{dx}$ and $Q$ \\[m<sup>3</sup>/s\\] the river discharge. $rn_1$ and $rn_2$ are calibration parameters. These calibration parameters are estimated by comparing the model results with measured values. Therefore, we call this function 'empirical'."
   ]
  },
  {
   "cell_type": "markdown",
   "id": "610ea6dc-d986-446e-866b-9a0105933f57",
   "metadata": {},
   "source": [
    "# 3. Visualisation of the inputs in 2D\n",
    "During this exercise we are going to inspect the input data of the transport module. GIS models can consist of different types of input data:\n",
    "\n",
    "* Non spatial (tables)\n",
    "* Spatial 2D (maps)\n",
    "* Spatial 2.5D (drapes)\n",
    "* Spatial-temporal (animations and graphs)\n",
    "\n",
    "## 3.1 Visualisation of the input maps\n",
    "Now we're going to inspect the input maps. They have the.map file extension. The following maps can be found in the folder of the model:\n",
    "\n",
    "> You can execute lines in this Jupyter Notebook by typing Shift-Enter"
   ]
  },
  {
   "cell_type": "code",
   "execution_count": 1,
   "id": "92483cca-fca5-4cb8-995f-476cb50473af",
   "metadata": {
    "tags": []
   },
   "outputs": [
    {
     "name": "stdout",
     "output_type": "stream",
     "text": [
      " Volume in drive D is Data\n",
      " Volume Serial Number is 78E1-4854\n",
      "\n",
      " Directory of D:\\Polflow\n",
      "\n",
      "28/05/2008  12:22            42,826 catchment.map\n",
      "19/08/2008  16:31           170,536 dem.map\n",
      "08/07/2008  10:04            42,826 ldd.map\n",
      "17/02/2010  11:51           170,536 rupelmonde.map\n",
      "               4 File(s)        426,724 bytes\n",
      "               0 Dir(s)  493,184,204,800 bytes free\n"
     ]
    }
   ],
   "source": [
    "!dir *.map"
   ]
  },
  {
   "cell_type": "markdown",
   "id": "145c4e7f-f3ca-45c7-8f57-580de0deafd8",
   "metadata": {},
   "source": [
    "* _catchment.map_: a map showing the catchment of the Scheldt river\n",
    "* _dem.map_: an elevation map of the Scheldt catchment. Units: meters above sea level\n",
    "* _ldd.map_: a local drain direction (ldd) map with the direction of water flow for each grid cell\n",
    "* _rupelmonde.map_: a map with a location for which we report the model results.\n",
    "\n",
    "Let's have a look at the _ldd.map_ raster:"
   ]
  },
  {
   "cell_type": "code",
   "execution_count": 1,
   "id": "7b91a5df-698e-4f7c-8a35-77adf35456c8",
   "metadata": {
    "tags": []
   },
   "outputs": [],
   "source": [
    "!aguila ldd.map"
   ]
  },
  {
   "cell_type": "markdown",
   "id": "a8aec8cd-0b03-4b23-b203-7b98f90fedc9",
   "metadata": {},
   "source": [
    "Use the scroll button of the mouse to zoom in and out. You need to zoom in quite a bit to see the flow lines. Click the <img src=\"crosshair.png\" alt=\"crosshair icon\"> icon to evaluate the values of the pixels.\n",
    "\n",
    "**Question 1: What kind of values do you find in the ldd map?**"
   ]
  },
  {
   "cell_type": "markdown",
   "id": "03bec9a6-ecc2-478f-9deb-7c426734542d",
   "metadata": {},
   "source": []
  },
  {
   "cell_type": "markdown",
   "id": "44af049b-a58f-4a20-8830-9420e047bbbb",
   "metadata": {},
   "source": [
    "**Question 2: Where is the outflow point of the catchment and how can you see that?**"
   ]
  },
  {
   "cell_type": "markdown",
   "id": "078d75fa-093f-42e0-a8ab-be64deecbfb0",
   "metadata": {},
   "source": []
  },
  {
   "cell_type": "markdown",
   "id": "0a199b64-3fd1-4d3f-8060-b64fadf2bd28",
   "metadata": {},
   "source": [
    "Close the maps by choosing in the menu **File | Exit**"
   ]
  },
  {
   "cell_type": "markdown",
   "id": "e54a2f54-a1c0-433c-949f-42f40b461d82",
   "metadata": {},
   "source": [
    "We can also compare several maps together and read their pixel values for a specific cell location. Let's have a look at the DEM and the outlet of the catchment."
   ]
  },
  {
   "cell_type": "code",
   "execution_count": 9,
   "id": "2a995251-7331-427d-8058-6772f482e4d1",
   "metadata": {
    "tags": []
   },
   "outputs": [],
   "source": [
    "aguila(\"dem.map\",\"rupelmonde.map\")"
   ]
  },
  {
   "cell_type": "markdown",
   "id": "e22cfb79-d8fd-49ed-8172-1b35fc0373cb",
   "metadata": {},
   "source": [
    "It is still difficult to find Rupelmonde, because of the colours in the map. Change the legend of *dem.map* by double clicking the legend. Next, click on the colour scale and choose a colour scale from black to white and click *Ok*, Apply and again *Ok* to return to the map. Rupelmonde is now visible as a red dot."
   ]
  },
  {
   "cell_type": "markdown",
   "id": "5e31e485-593f-4461-9834-36e51b91cdca",
   "metadata": {},
   "source": [
    "**Question 3: What is the average elevation of the 1 km<sup>2</sup> pixel at Rupelmonde? Also give units.**"
   ]
  },
  {
   "cell_type": "markdown",
   "id": "b58fcadd-5ad2-4148-b693-c5cf257aa33d",
   "metadata": {},
   "source": []
  },
  {
   "cell_type": "markdown",
   "id": "e06a8d2f-4a4d-451c-a84a-36cc5ee90afe",
   "metadata": {},
   "source": [
    "## 3.2 Visualisation of the input maps in 2.5D\n",
    "Elevation data can be better explored when visualised in perspective. This is called 2.5D visualisation, because you need special 3D glasses for viewing 3D. Here you only see the 3D effect because of shading and the perspective. We are going to visualise *dem.map* in 2.5D. "
   ]
  },
  {
   "cell_type": "code",
   "execution_count": 4,
   "id": "3d72d725-6220-4753-8ebc-f93b9a738b51",
   "metadata": {
    "tags": []
   },
   "outputs": [],
   "source": [
    "!aguila -3 dem.map + dem.map"
   ]
  },
  {
   "cell_type": "markdown",
   "id": "1cae3b66-1a2b-456a-ae25-74dd06883788",
   "metadata": {},
   "source": [
    "Play around with it and change the legend to get a nice 2.5D map."
   ]
  },
  {
   "cell_type": "markdown",
   "id": "b94c336e-dee8-42f7-be16-834de17a1c44",
   "metadata": {},
   "source": [
    "## 3.3 Visualisation of time series of maps\n",
    "Now we know how to visualise 2D and 2.5D data. Spatial-dynamic models, however, are characterised by temporal data, i.e. data that changes through time. These can be tables, e.g. the amount of precipitation measured per hour at a meteorological station. These can also be map series, e.g. vegetation per season derived from remote sensing images (satellite data) or data from other models. Our transport module uses map series as input data. Static maps (i.e. maps with data that do not change over time) have the file extension *.map* as we have seen before. Map series have as extension *.001, .002, .003* until the last time step. In our case we have map series with 68 maps for 68 time steps. In our model every time step is 1 year, where the first time step corresponds with 1940. The last year in the model corresponds with 2007. The following map series are used in the model:\n",
    "\n",
    "* Average yearly discharge \\[m<sup>3</sup>/s\\] (`qaccumrd.001...068`)\n",
    "* Total yearly emission from point sources \\[kg/km<sup>2</sup>\\] (`epointr0.001...068`)\n",
    "* Total yearly emission from diffuse sources \\[kg/km<sup>2</sup>\\] (`totalind.001...068`)\n",
    "\n",
    "Visualisation of map series is similar to static maps. We're going to visualise the average yearly discharge:"
   ]
  },
  {
   "cell_type": "code",
   "execution_count": 2,
   "id": "55e19867-456e-4db3-85a5-578be6e01db8",
   "metadata": {
    "tags": []
   },
   "outputs": [],
   "source": [
    "!aguila --timesteps=[1,68,1] qaccumrd"
   ]
  },
  {
   "cell_type": "markdown",
   "id": "af5a6821-6fd9-4dfe-9a58-9bac0f6c6fc4",
   "metadata": {},
   "source": [
    "At first sight it looks like a static map. However, we can visualise the changes in discharge through time by clicking the *Animate* icon <img src=\"animate.png\" alt=\"animate icon\">. In the *Animation Dialogue* that appears now we can click the *Play* button to start the animation.\n",
    "\n",
    "The animation only shows the large discharges. In order to visualise little streams, we need to change the legend. Double click on the legend and select in the dialogue *Shifted logarithmic* in the *Colour assignment* drop down menu. Next click *Apply* and *Ok*.\n",
    "\n",
    "<img src=\"aguila_shifted_logarithmic.png\" alt=\"Choose Shifted logarithmic colour scale to be used\">\n",
    "\n",
    "Rewind the animation by using the correct button in the *Animation Dialogue* . Select *Loop animation* and play the animation again.\n",
    "\n",
    "It is also possible to visualise a discharge curve for a specific pixel. Click on the legend using the right mouse button and choose *Show timeseries…*. A new window with an empty graph will appear. Now click with the left mouse button somewhere in the map where you see a river. The discharge curve of this pixel will appear. Zoom in at the outflow point of the Scheldt river and left click on the last pixel of the river to visualise the corresponding discharge curve.\n",
    "\n",
    "**Question 4: In which year the highest discharge of the Scheldt river at the outflow point is modelled?**"
   ]
  },
  {
   "cell_type": "markdown",
   "id": "caa80f4a-7bbc-48aa-924e-81c0a66caf26",
   "metadata": {},
   "source": []
  },
  {
   "cell_type": "markdown",
   "id": "f929d638-8f48-4f23-88a5-05583f2b4e96",
   "metadata": {},
   "source": [
    "**Question 5: What was the discharge in that year? Also give units. Hint: use the <img src=\"crosshair.png\" alt=\"crosshair icon\"> icon to display the value.**"
   ]
  },
  {
   "cell_type": "markdown",
   "id": "15360099-3091-4922-b8ee-af6284267820",
   "metadata": {},
   "source": []
  },
  {
   "cell_type": "markdown",
   "id": "1a5195e3-fe9a-4b90-8ad7-a199c2916e19",
   "metadata": {},
   "source": [
    "We can even visualise the discharge in 2.5D by draping the map series over the DEM:"
   ]
  },
  {
   "cell_type": "code",
   "execution_count": 3,
   "id": "17807e7b-172b-43da-8326-1a9edda2cca5",
   "metadata": {
    "tags": []
   },
   "outputs": [],
   "source": [
    "!aguila --timesteps=[1,68,1] -3 dem + qaccumrd"
   ]
  },
  {
   "cell_type": "markdown",
   "id": "3f30ff10-af6a-4f59-9f7a-e3f92cc9ece2",
   "metadata": {},
   "source": [
    "Adapt the legend and look at the 2.5D animation of the discharge by using the animation button.\n",
    "\n",
    "We can visualise the diffuse and point sources in the same way:"
   ]
  },
  {
   "cell_type": "code",
   "execution_count": 4,
   "id": "290ff8f3-f88b-4091-b6ed-5b5bea0acf6d",
   "metadata": {
    "tags": []
   },
   "outputs": [],
   "source": [
    "!aguila --timesteps=[1,68,1] -3 dem + epointr"
   ]
  },
  {
   "cell_type": "code",
   "execution_count": 5,
   "id": "f82d1c03-6d19-4701-ad4a-36d9f54833b9",
   "metadata": {
    "tags": []
   },
   "outputs": [],
   "source": [
    "!aguila --timesteps=[1,68,1] -3 dem + totalind"
   ]
  },
  {
   "cell_type": "markdown",
   "id": "1eea6b45-957a-4819-869b-6e0357742a12",
   "metadata": {},
   "source": [
    "# 4. A quick introduction to map algebra\n",
    "In the previous exercise we have inspected the input data visually. In GIS-based models maps are used for calculations. An important functionality in raster-based GIS systems is the use of *map algebra*. Map algebra can be used to perform mathematical operations with maps, such as adding, subtracting, multiplying, etc. For example, the map algebra expression for adding two maps, A and B, looks like:\n",
    "\n",
    "`map C = map A + map B`\n",
    "\n",
    "where `map C` is the result map which contains for each pixel of the sum the same pixel in `map A` and `map B`. In the same way complex equations can be made using raster maps.\n",
    "\n",
    "In PCRaster Python we can use map algebra.\n",
    "\n",
    "First we need to import the PCRaster library:"
   ]
  },
  {
   "cell_type": "code",
   "execution_count": 6,
   "id": "b2bc2a94-420e-4084-8d73-2abc086dbdc4",
   "metadata": {
    "tags": []
   },
   "outputs": [],
   "source": [
    "from pcraster import *"
   ]
  },
  {
   "cell_type": "markdown",
   "id": "9815abab-48c8-4c0d-83ef-8c5ca127cd7d",
   "metadata": {},
   "source": [
    "You'll see nothing after execution. Also no error, which means that it correctly loaded the PCRaster module and we can use it now.\n",
    "\n",
    "We can calculate the total nitrogen emission by adding the point sources and the diffuse sources. First we read the rasters from disk. Let's do that for the year 2006:"
   ]
  },
  {
   "cell_type": "code",
   "execution_count": 7,
   "id": "a41c931c-3206-47d1-a402-5f06279844b1",
   "metadata": {
    "tags": []
   },
   "outputs": [],
   "source": [
    "epointr2006 = readmap(\"epointr0.067\")\n",
    "totalind2006 = readmap(\"totalind.067\")"
   ]
  },
  {
   "cell_type": "markdown",
   "id": "3a62ec2d-b534-4d32-9c68-1838b4b8310a",
   "metadata": {},
   "source": [
    "Now the raster layers are accessible through the *variables* `epointr2006` and `totalind2006`.\n",
    "\n",
    "We can simply add them with the following line:"
   ]
  },
  {
   "cell_type": "code",
   "execution_count": 8,
   "id": "c43c97f8-e64a-4eb8-86bf-d16b6a98e9ca",
   "metadata": {
    "tags": []
   },
   "outputs": [],
   "source": [
    "emistot2006 = epointr2006 + totalind2006"
   ]
  },
  {
   "cell_type": "markdown",
   "id": "474e5c8d-2bdf-4998-93f8-27eca043d593",
   "metadata": {},
   "source": [
    "Where `emistot2006` is the raster layer with the total emission in 2006. We can visualise the three variables with this code:"
   ]
  },
  {
   "cell_type": "code",
   "execution_count": 9,
   "id": "e779fd25-cab8-46f9-b53a-38c11da39f30",
   "metadata": {
    "tags": []
   },
   "outputs": [],
   "source": [
    "aguila(emistot2006,epointr2006,totalind2006)"
   ]
  },
  {
   "cell_type": "markdown",
   "id": "8fab58a2-1650-452a-9e60-1b1fd5ea53df",
   "metadata": {},
   "source": [
    "Check the result."
   ]
  },
  {
   "cell_type": "markdown",
   "id": "bdb0ef4b-4e86-479a-b7f6-8a27aa2636e3",
   "metadata": {},
   "source": [
    "Now check the value at the outlet in Rupelmonde:"
   ]
  },
  {
   "cell_type": "code",
   "execution_count": 11,
   "id": "cb01210f-52c3-410c-bfc3-6fb44516920d",
   "metadata": {
    "tags": []
   },
   "outputs": [],
   "source": [
    "Rupelmonde = readmap(\"rupelmonde.map\")\n",
    "aguila(emistot2006,Rupelmonde)"
   ]
  },
  {
   "cell_type": "markdown",
   "id": "f0eadfdf-9db5-482b-b6fa-c60d220513fa",
   "metadata": {},
   "source": [
    "**Question 6: Calculate the total nitrogen emission for the year 2000. What was the total nitrogen load emitted into the river in Rupelmonde in that year? Also give units.\n",
    "Steps: (a) Calculate the total nitrogen emission for the year 2000 in the same way as has been done for 2006 in the example above. Visualise the result; (b) Change the legend so Rupelmonde is visible; (c) Read the value of the pixel at Rupelmonde.**\n"
   ]
  },
  {
   "cell_type": "markdown",
   "id": "fb6cf236-125d-4e20-b848-b5749cfdfa14",
   "metadata": {},
   "source": [
    "In addition to mathematical operators (adding, subtracting, multiplying, dividing, powers and roots) GIS systems also have spatial functions. For example, with the `slope` function we can calculate the slope from a DEM (digital elevation map). "
   ]
  },
  {
   "cell_type": "code",
   "execution_count": 12,
   "id": "d8e5a7e1-f2cd-4e6f-a503-113efe45e8d6",
   "metadata": {
    "tags": []
   },
   "outputs": [],
   "source": [
    "DEM = readmap(\"dem.map\")\n",
    "slopeMap = slope(DEM)"
   ]
  },
  {
   "cell_type": "markdown",
   "id": "c4374237-2922-4711-9bfc-4a8e54cf835f",
   "metadata": {},
   "source": [
    "Visualise the slope map:"
   ]
  },
  {
   "cell_type": "code",
   "execution_count": 13,
   "id": "378b53ed-f749-450b-a9b9-c7ae2ead95c8",
   "metadata": {
    "tags": []
   },
   "outputs": [],
   "source": [
    "aguila(slopeMap)"
   ]
  },
  {
   "cell_type": "markdown",
   "id": "987a64df-2349-4e90-add7-13e29b1c30df",
   "metadata": {},
   "source": [
    "Mathematically, a slope map is calculated by taking the derivative of the elevation map. The values in the slope map therefore represent the change in elevation (dz) over distance (dx), where 0 means 'flat' and 1 means 'a slope of 45º', or:\n",
    "\n",
    "$slope = \\frac{dz}{dx}$\n",
    "\n",
    "In order to create a map showing the slope in degrees we need to calculate the inverse tangent of the map:"
   ]
  },
  {
   "cell_type": "code",
   "execution_count": 14,
   "id": "fdcc7793-9561-4f2a-89ff-3b591cfd2931",
   "metadata": {
    "tags": []
   },
   "outputs": [],
   "source": [
    "slopeDeg = scalar(atan(slopeMap))"
   ]
  },
  {
   "cell_type": "markdown",
   "id": "c1771bb2-193c-409b-a04b-18c342c17d33",
   "metadata": {},
   "source": [
    "Visualise `slopeDeg`."
   ]
  },
  {
   "cell_type": "code",
   "execution_count": null,
   "id": "d084c50d-fd08-4937-abff-e949e914121f",
   "metadata": {},
   "outputs": [],
   "source": []
  },
  {
   "cell_type": "markdown",
   "id": "5b2c79bd-acdb-4228-95bb-f553b0f9964d",
   "metadata": {},
   "source": [
    "In order to calculate the maximum slope of the area, we can use the `mapmaximum` function:"
   ]
  },
  {
   "cell_type": "code",
   "execution_count": 15,
   "id": "a61520fe-fcef-49d3-8600-6e72fc64cbcc",
   "metadata": {
    "tags": []
   },
   "outputs": [],
   "source": [
    "slopeMax = mapmaximum(slopeDeg)"
   ]
  },
  {
   "cell_type": "markdown",
   "id": "7e271bc2-6d15-463f-b0e6-9fd4857b4340",
   "metadata": {},
   "source": [
    "Visualise `slopeMax`:"
   ]
  },
  {
   "cell_type": "markdown",
   "id": "f46c6e6e-bed6-42e8-b50f-83f7243039de",
   "metadata": {},
   "source": [
    "**Question 7: What is the maximum slope in degrees in the Scheldt catchment?**"
   ]
  },
  {
   "cell_type": "markdown",
   "id": "c87513d7-edc5-4a94-a910-5fd030301766",
   "metadata": {},
   "source": [
    "# 5. Introduction to scripting"
   ]
  },
  {
   "cell_type": "markdown",
   "id": "3438273a-b197-4d06-bd45-ad65776309c7",
   "metadata": {},
   "source": [
    "By writing a sequence of map algebra calculations we develop a script. With a script we can perform a sequence of calculations for a specific moment or iterate the sequence for a number of time steps. Iteration means that the calculations are repeated for every time step, whereby results from one time step are passed to the next time step. In that case we have a dynamic script. The transport module of the PolFlow - Scheldt model is an example of a dynamic script."
   ]
  },
  {
   "cell_type": "code",
   "execution_count": null,
   "id": "df35fc62-99e4-4a85-ba50-67c788778127",
   "metadata": {},
   "outputs": [],
   "source": []
  }
 ],
 "metadata": {
  "kernelspec": {
   "display_name": "Python 3 (ipykernel)",
   "language": "python",
   "name": "python3"
  },
  "language_info": {
   "codemirror_mode": {
    "name": "ipython",
    "version": 3
   },
   "file_extension": ".py",
   "mimetype": "text/x-python",
   "name": "python",
   "nbconvert_exporter": "python",
   "pygments_lexer": "ipython3",
   "version": "3.11.2"
  }
 },
 "nbformat": 4,
 "nbformat_minor": 5
}
