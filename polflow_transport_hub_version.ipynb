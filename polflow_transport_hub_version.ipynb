{
 "cells": [
  {
   "cell_type": "markdown",
   "id": "066ba4e1",
   "metadata": {},
   "source": [
    "# Modelling Point and Diffuse N Sources with the PolFlow Model"
   ]
  },
  {
   "cell_type": "markdown",
   "id": "5384e38f-6099-4625-b393-95d6796f6e06",
   "metadata": {},
   "source": [
    "# Preface\n",
    "These exercises have been originally developed in Dutch for \"Lerarenopleiding Aardrijkskunde\" at Fontys Hogeschool in Tilburg in close cooperation with Dr. T.H.G. Wils. After the first experiences the exercises have been improved and used in a course for Hogeschool Rotterdam. I'm thankful for the didactic advice from Dr. Wils and the useful experiences we had in demonstrating the power of modelling to non-modellers. The course has been published in \"Geografie\", the journal of the Dutch Geography Association.\n",
    "\n",
    "For the IHE Delft Water Quality Assessment Module the course has been translated and slightly adapted. I hope that the course will help the participant to understand in general terms how models are constructed, calibrated and can be used in decision making. Because models are used in many fields, this expertise is not only useful for modellers, but for a wider audience.\n",
    "\n",
    "The PolFlow-Scheldt model has been developed during my work at the Flemish Institute for Technological Research (VITO) in cooperation with the Institute for Environmental Studies (IVM), Deltares and Dr. Willem van Deursen, in the frame of the EU FP7 SPICOSA project.\n",
    "\n",
    "Dr. J. van der Kwast\n",
    "Delft, February 18, 2013\n",
    "\n",
    "*Updated to PCRaster Python in October 2017*\n",
    "\n",
    "*Updated to eCampus online quiz in April 2017*\n",
    "\n",
    "*Updated and simplified for use in Jupter Notebook in April 2023*\n",
    "\n",
    "*Updated and simplified for use in Jupter Hub in March 2025*"
   ]
  },
  {
   "cell_type": "markdown",
   "id": "2464d5d7-a0b2-4d3d-880d-cc7b3abb971d",
   "metadata": {},
   "source": [
    "# 1. Introduction\n",
    "The purpose of these exercises is to get an idea of the nature and applicability of spatial-dynamic models for the assessment of policies. Spatial dynamic models are models that perform calculations in both the spatial (GIS maps) and the temporal dimension. Eventually you will simulate what impact climate change and environmental policies can have on nitrogen pollution in the Scheldt river.\n",
    "\n",
    "Looking into this model gives you an insight into how scientists and policymakers try to estimate what happens under what circumstances: the computation of so-called what-if scenarios. This is important in order to understand, for example, the discussion on climate change and the effects of policy choices.\n",
    "\n",
    "During these exercises, we will study the transport module of the PolFlow - Scheldt model in detail, which has been discussed during the lecture. This module models the transport of nitrogen in surface waters of the Scheldt and its tributaries. Nitrogen is a fertilizer which causes damage to the environment because it can cause algae bloom. Algae take up much oxygen, killing the fish in the water. This environmental problem is called eutrophication.\n",
    "\n",
    "The PolFlow - Scheldt model has been developed using the PCRaster environmental modelling language, a computer language for constructing spatial and dynamic models. The models are iterative, which means that for each time step of the model, the same calculations are done repeatedly, but that the results of the calculations are passed as input to the next time step.\n",
    "\n",
    "The PCRaster modelling language uses a set of more than 120 spatial and temporal operators. Operators are commands that the computer uses to perform certain mathematical operations. The operators of the PCRaster modelling language are specifically designed for spatial and spatial-dynamic models. This has the advantage that the models and their structure are in line with the conceptual framework of spatial-dynamic sciences like geography and geology. It offers the opportunity for researchers to construct models themselves in a relatively short time, even if they have no experience with programming. Models constructed with the PCRaster Environmental Modelling language can easily be modified or extended. Results can be directly evaluated in PCRaster's own GIS environment, which offers visualization tools for spatial-temporal data. The exchange with other GIS systems is also simple. The PCRaster software can be downloaded for free from http://pcraster.geo.uu.nl. Here you can also register for courses. Other courses can be found at [GIS OpenCourseWare](https://courses.gisopencourseware.org/).\n",
    "\n",
    "For these exercises we'll use this Jupyter Notebook, which will guide you in an interactive way through the transport module of the POLFLOW model.\n",
    "\n",
    "For visualising the input and output data, you need to have QGIS installed with PCRaster. You can find instructions [here](https://jvdkwast.github.io/qgis-processing-pcraster/).\n",
    "\n",
    "During the exerices the following topics will be covered:\n",
    "* Visualisation of input/output data\n",
    "    * Non spatial (tables)\n",
    "    * Spatial 2D (maps)\n",
    "    * Spatial 2.5D (drapes)\n",
    "    * Spatial-temporal (animations and graphs)\n",
    "* Introduction to map algebra\n",
    "* Introduction to scripting\n",
    "* Sensitivity analysis, calibration and scenarios."
   ]
  },
  {
   "cell_type": "markdown",
   "id": "bda571db-7b59-4ac5-bf52-f6db0e4ff393",
   "metadata": {},
   "source": [
    "# 2. The POLFLOW Transport Module\n",
    "The transportmodule of the PolFlow - Scheldt model calculates how nitrogen, that enters the surface water through point and diffuse sources, is moving through the catchment and eventually reaches the estuary of the Scheldt. A point source, for example, is an industry that discharges nitrogen at one specific point in the river. A diffuse source, for example, is a farmer who rides out his manure here and there on his pastures.\n",
    "Through denitrification, which is the process where bacteria convert nitrate (NO<sub>3</sub><sup>-</sup>) in nitrogen gas, a part of the nitrogen will be removed from the surface water. Another part of the nitrogen is assimilated by algae and macrophytes living in the water. This nitrogen removal from the surface water is modelled using a function that calculates the transport fraction (`tf`). The transport fraction is the amount of nitrogen that leaves a gridcell divided by the total amount of nitrogen entering a gridcell. It is calculated with this equation:\n",
    "\n",
    "$tf = \\frac{1}{1 +((rn_1 * ((1000 * S) + 1)) * Q^{rn_2}}$\n",
    "\n",
    "with $S$ the slope of the terrain $\\frac{dz}{dx}$ and $Q$ \\[m<sup>3</sup>/s\\] the river discharge. $rn_1$ and $rn_2$ are calibration parameters. These calibration parameters are estimated by comparing the model results with measured values. Therefore, we call this function 'empirical'."
   ]
  },
  {
   "cell_type": "markdown",
   "id": "610ea6dc-d986-446e-866b-9a0105933f57",
   "metadata": {},
   "source": [
    "# 3. Visualisation of the inputs in 2D\n",
    "During this exercise we are going to inspect the input data of the transport module. GIS models can consist of different types of input data:\n",
    "\n",
    "* Non spatial (tables)\n",
    "* Spatial 2D (maps)\n",
    "* Spatial 2.5D (drapes)\n",
    "* Spatial-temporal (animations and graphs)\n",
    "\n",
    "## 3.1 Visualisation of the input maps\n",
    "Now we're going to inspect the input maps. They have the.map file extension. The following maps can be found in the folder of the model:\n",
    "\n",
    "> You can execute lines in this Jupyter Notebook by typing Shift-Enter"
   ]
  },
  {
   "cell_type": "code",
   "execution_count": null,
   "id": "92483cca-fca5-4cb8-995f-476cb50473af",
   "metadata": {
    "tags": []
   },
   "outputs": [],
   "source": [
    "!dir *.map"
   ]
  },
  {
   "cell_type": "markdown",
   "id": "145c4e7f-f3ca-45c7-8f57-580de0deafd8",
   "metadata": {},
   "source": [
    "* _catchment.map_: a map showing the catchment of the Scheldt river\n",
    "* _dem.map_: an elevation map of the Scheldt catchment. Units: meters above sea level\n",
    "* _ldd.map_: a local drain direction (ldd) map with the direction of water flow for each grid cell\n",
    "* _rupelmonde.map_: a map with a location for which we report the model results.\n",
    "\n",
    "We can visualise these maps with a tool called *aguila*. Aguila doesn't run from the Jupyter Hub environment. Therefore, you need to download the files to our local computer and use Aguila that comes PCRaster on Windows.\n",
    "\n",
    "Let's zip all files first."
   ]
  },
  {
   "cell_type": "code",
   "execution_count": null,
   "id": "cd562412-6d06-4ef8-842d-f9a6bccc6805",
   "metadata": {},
   "outputs": [],
   "source": [
    "!tar -czvf polflow_data.tar.gz *"
   ]
  },
  {
   "cell_type": "markdown",
   "id": "a504c9b6-86db-4b95-965f-a1d7c28925b9",
   "metadata": {},
   "source": [
    "Now download the file from the file explorer panel on the left side of this window. Go to your file explorer and extract the files. Note that is in the so-called tarball format: compressed as tar and then as gz. So you need to extract both.\n",
    "\n",
    "Aguila is a tool that comes with PCRaster. You can easily install PCRaster on Windows with the OSGeo4W installer. Check the installation instructions [here](https://jvdkwast.github.io/qgis-processing-pcraster/).\n",
    "\n",
    "Before we continue, remove the zipfile:"
   ]
  },
  {
   "cell_type": "code",
   "execution_count": null,
   "id": "1bcaebf8-3016-42b3-a275-0c3dcaf941b7",
   "metadata": {},
   "outputs": [],
   "source": [
    "rm *.gz"
   ]
  },
  {
   "cell_type": "markdown",
   "id": "ca438f56-a0a1-4aa6-b30b-2a078c56c75d",
   "metadata": {
    "tags": []
   },
   "source": [
    "Start QGIS Desktop.\n",
    "In the _Browser panel_, right-click on the folder name where you have extracted the files and choose _Open in terminal..._.\n",
    "In the terminal type:\n",
    "\n",
    "`aguila ldd.map`"
   ]
  },
  {
   "cell_type": "markdown",
   "id": "a8aec8cd-0b03-4b23-b203-7b98f90fedc9",
   "metadata": {},
   "source": [
    "Use the scroll button of the mouse to zoom in and out. You need to zoom in quite a bit to see the flow lines. Click the <img src=\"crosshair.png\" alt=\"crosshair icon\"> icon to evaluate the values of the pixels.\n",
    "\n",
    "**Question 1: What kind of values do you find in the ldd map?**"
   ]
  },
  {
   "cell_type": "markdown",
   "id": "03bec9a6-ecc2-478f-9deb-7c426734542d",
   "metadata": {},
   "source": []
  },
  {
   "cell_type": "markdown",
   "id": "44af049b-a58f-4a20-8830-9420e047bbbb",
   "metadata": {},
   "source": [
    "**Question 2: Where is the outflow point of the catchment and how can you see that?**"
   ]
  },
  {
   "cell_type": "markdown",
   "id": "078d75fa-093f-42e0-a8ab-be64deecbfb0",
   "metadata": {},
   "source": []
  },
  {
   "cell_type": "markdown",
   "id": "0a199b64-3fd1-4d3f-8060-b64fadf2bd28",
   "metadata": {},
   "source": [
    "Close the maps by choosing in the menu **File | Exit**"
   ]
  },
  {
   "cell_type": "markdown",
   "id": "e54a2f54-a1c0-433c-949f-42f40b461d82",
   "metadata": {},
   "source": [
    "We can also compare several maps together and read their pixel values for a specific cell location. Let's have a look at the DEM and the outlet of the catchment."
   ]
  },
  {
   "cell_type": "markdown",
   "id": "c35a813e-f790-4387-8afe-b04f6571947b",
   "metadata": {
    "tags": []
   },
   "source": [
    "`aguila dem.map rupelmonde.map`"
   ]
  },
  {
   "cell_type": "markdown",
   "id": "e22cfb79-d8fd-49ed-8172-1b35fc0373cb",
   "metadata": {},
   "source": [
    "It is still difficult to find Rupelmonde, because of the colours in the map. Change the legend of *dem.map* by double clicking the legend. Next, click on the colour scale and choose a colour scale from black to white and click *Ok*, Apply and again *Ok* to return to the map. Rupelmonde is now visible as a red dot."
   ]
  },
  {
   "cell_type": "markdown",
   "id": "5e31e485-593f-4461-9834-36e51b91cdca",
   "metadata": {},
   "source": [
    "**Question 3: What is the average elevation of the 1 km<sup>2</sup> pixel at Rupelmonde? Also give units.**"
   ]
  },
  {
   "cell_type": "markdown",
   "id": "b58fcadd-5ad2-4148-b693-c5cf257aa33d",
   "metadata": {},
   "source": []
  },
  {
   "cell_type": "markdown",
   "id": "e06a8d2f-4a4d-451c-a84a-36cc5ee90afe",
   "metadata": {},
   "source": [
    "## 3.2 Visualisation of the input maps in 2.5D\n",
    "Elevation data can be better explored when visualised in perspective. This is called 2.5D visualisation, because you need special 3D glasses for viewing 3D. Here you only see the 3D effect because of shading and the perspective. We are going to visualise *dem.map* in 2.5D. Type at the command line:"
   ]
  },
  {
   "cell_type": "markdown",
   "id": "887f9ab9-2249-4f4d-b181-19540f8455a1",
   "metadata": {
    "tags": []
   },
   "source": [
    "`aguila -3 dem.map + dem.map`"
   ]
  },
  {
   "cell_type": "markdown",
   "id": "1cae3b66-1a2b-456a-ae25-74dd06883788",
   "metadata": {},
   "source": [
    "Play around with it and change the legend to get a nice 2.5D map."
   ]
  },
  {
   "cell_type": "markdown",
   "id": "b94c336e-dee8-42f7-be16-834de17a1c44",
   "metadata": {},
   "source": [
    "## 3.3 Visualisation of time series of maps\n",
    "Now we know how to visualise 2D and 2.5D data. Spatial-dynamic models, however, are characterised by temporal data, i.e. data that changes through time. These can be tables, e.g. the amount of precipitation measured per hour at a meteorological station. These can also be map series, e.g. vegetation per season derived from remote sensing images (satellite data) or data from other models. Our transport module uses map series as input data. Static maps (i.e. maps with data that do not change over time) have the file extension *.map* as we have seen before. Map series have as extension *.001, .002, .003* until the last time step. In our case we have map series with 68 maps for 68 time steps. In our model every time step is 1 year, where the first time step corresponds with 1940. The last year in the model corresponds with 2007. The following map series are used in the model:\n",
    "\n",
    "* Average yearly discharge \\[m<sup>3</sup>/s\\] (`qaccumrd.001...068`)\n",
    "* Total yearly emission from point sources \\[kg/km<sup>2</sup>\\] (`epointr0.001...068`)\n",
    "* Total yearly emission from diffuse sources \\[kg/km<sup>2</sup>\\] (`totalind.001...068`)\n",
    "\n",
    "Visualisation of map series is similar to static maps. We're going to visualise the average yearly discharge:"
   ]
  },
  {
   "cell_type": "markdown",
   "id": "e4eb97e2-9012-40de-beac-3419ece9cd31",
   "metadata": {
    "tags": []
   },
   "source": [
    "`aguila --timesteps=[1,68,1] qaccumrd`"
   ]
  },
  {
   "cell_type": "markdown",
   "id": "af5a6821-6fd9-4dfe-9a58-9bac0f6c6fc4",
   "metadata": {},
   "source": [
    "At first sight it looks like a static map. However, we can visualise the changes in discharge through time by clicking the *Animate* icon <img src=\"animate.png\" alt=\"animate icon\">. In the *Animation Dialogue* that appears now we can click the *Play* button to start the animation.\n",
    "\n",
    "The animation only shows the large discharges. In order to visualise little streams, we need to change the legend. Double click on the legend and select in the dialogue *Shifted logarithmic* in the *Colour assignment* drop down menu. Next click *Apply* and *Ok*.\n",
    "\n",
    "<img src=\"aguila_shifted_logarithmic.png\" alt=\"Choose Shifted logarithmic colour scale to be used\">\n",
    "\n",
    "Rewind the animation by using the correct button in the *Animation Dialogue* . Select *Loop animation* and play the animation again.\n",
    "\n",
    "It is also possible to visualise a discharge curve for a specific pixel. Click on the legend using the right mouse button and choose *Show timeseries…*. A new window with an empty graph will appear. Now click with the left mouse button somewhere in the map where you see a river. The discharge curve of this pixel will appear. Zoom in at the outflow point of the Scheldt river and left click on the last pixel of the river to visualise the corresponding discharge curve.\n",
    "\n",
    "**Question 4: In which year the highest discharge of the Scheldt river at the outflow point is modelled?**"
   ]
  },
  {
   "cell_type": "markdown",
   "id": "caa80f4a-7bbc-48aa-924e-81c0a66caf26",
   "metadata": {},
   "source": []
  },
  {
   "cell_type": "markdown",
   "id": "f929d638-8f48-4f23-88a5-05583f2b4e96",
   "metadata": {},
   "source": [
    "**Question 5: What was the discharge in that year? Also give units. Hint: use the <img src=\"crosshair.png\" alt=\"crosshair icon\"> icon to display the value.**"
   ]
  },
  {
   "cell_type": "markdown",
   "id": "15360099-3091-4922-b8ee-af6284267820",
   "metadata": {},
   "source": []
  },
  {
   "cell_type": "markdown",
   "id": "1a5195e3-fe9a-4b90-8ad7-a199c2916e19",
   "metadata": {},
   "source": [
    "We can even visualise the discharge in 2.5D by draping the map series over the DEM:"
   ]
  },
  {
   "cell_type": "markdown",
   "id": "c62953ce-80af-4f71-a123-bc53160bc131",
   "metadata": {
    "tags": []
   },
   "source": [
    "`aguila --timesteps=[1,68,1] -3 dem + qaccumrd`"
   ]
  },
  {
   "cell_type": "markdown",
   "id": "3f30ff10-af6a-4f59-9f7a-e3f92cc9ece2",
   "metadata": {},
   "source": [
    "Adapt the legend and look at the 2.5D animation of the discharge by using the animation button.\n",
    "\n",
    "We can visualise the diffuse and point sources in the same way:"
   ]
  },
  {
   "cell_type": "markdown",
   "id": "eb20dae5-37f8-463b-a6a4-cfe617f2897a",
   "metadata": {
    "tags": []
   },
   "source": [
    "`aguila --timesteps=[1,68,1] -3 dem + epointr`"
   ]
  },
  {
   "cell_type": "markdown",
   "id": "2e965a82-1e33-4a96-b9dd-2933cafcf10e",
   "metadata": {
    "tags": []
   },
   "source": [
    "`aguila --timesteps=[1,68,1] -3 dem + totalind`"
   ]
  },
  {
   "cell_type": "markdown",
   "id": "1eea6b45-957a-4819-869b-6e0357742a12",
   "metadata": {},
   "source": [
    "# 4. A quick introduction to map algebra\n",
    "In the previous exercise we have inspected the input data visually. In GIS-based models maps are used for calculations. An important functionality in raster-based GIS systems is the use of *map algebra*. Map algebra can be used to perform mathematical operations with maps, such as adding, subtracting, multiplying, etc. For example, the map algebra expression for adding two maps, A and B, looks like:\n",
    "\n",
    "`map C = map A + map B`\n",
    "\n",
    "where `map C` is the result map which contains for each pixel of the sum the same pixel in `map A` and `map B`. In the same way, complex equations can be made using raster maps.\n",
    "\n",
    "In PCRaster Python we can use map algebra.\n",
    "\n",
    "First we need to import the PCRaster library:"
   ]
  },
  {
   "cell_type": "code",
   "execution_count": null,
   "id": "b2bc2a94-420e-4084-8d73-2abc086dbdc4",
   "metadata": {
    "tags": []
   },
   "outputs": [],
   "source": [
    "from pcraster import *"
   ]
  },
  {
   "cell_type": "markdown",
   "id": "9815abab-48c8-4c0d-83ef-8c5ca127cd7d",
   "metadata": {},
   "source": [
    "You'll see nothing after execution. Also no error, which means that it correctly loaded the PCRaster module and we can use it now.\n",
    "\n",
    "We can calculate the total nitrogen emission by adding the point sources and the diffuse sources. First we read the rasters from disk. Let's do that for the year 2006:"
   ]
  },
  {
   "cell_type": "code",
   "execution_count": null,
   "id": "a41c931c-3206-47d1-a402-5f06279844b1",
   "metadata": {
    "tags": []
   },
   "outputs": [],
   "source": [
    "epointr2006 = readmap(\"epointr0.067\")\n",
    "totalind2006 = readmap(\"totalind.067\")"
   ]
  },
  {
   "cell_type": "markdown",
   "id": "3a62ec2d-b534-4d32-9c68-1838b4b8310a",
   "metadata": {},
   "source": [
    "Now the raster layers are accessible through the *variables* `epointr2006` and `totalind2006`.\n",
    "\n",
    "We can simply add them with the following line:"
   ]
  },
  {
   "cell_type": "code",
   "execution_count": null,
   "id": "c43c97f8-e64a-4eb8-86bf-d16b6a98e9ca",
   "metadata": {
    "tags": []
   },
   "outputs": [],
   "source": [
    "emistot2006 = epointr2006 + totalind2006"
   ]
  },
  {
   "cell_type": "markdown",
   "id": "474e5c8d-2bdf-4998-93f8-27eca043d593",
   "metadata": {},
   "source": [
    "Where `emistot2006` is the raster layer with the total emission in 2006. \n",
    "\n",
    "We can save the result to disk with the `report` function using the following code:"
   ]
  },
  {
   "cell_type": "code",
   "execution_count": null,
   "id": "aa086444-1097-4e28-8d65-1a7bd3c7847b",
   "metadata": {},
   "outputs": [],
   "source": [
    "report(emistot2006,'emistot2006.map')"
   ]
  },
  {
   "cell_type": "markdown",
   "id": "f19b7079-9cf7-46b3-8fac-404f46cb81c2",
   "metadata": {},
   "source": [
    "Now download the file from the file panel on the right to the folder on your hard drive where you have the data: click right on the file name and choose _Download_."
   ]
  },
  {
   "cell_type": "markdown",
   "id": "0956f94c-7aab-418e-9248-56778437b5d6",
   "metadata": {
    "tags": []
   },
   "source": [
    "Then visualise the results in combination with the input rasters. Type the following command in the command line:\n",
    "\n",
    "`aguila emistot2006 epointr2006 totalind2006`"
   ]
  },
  {
   "cell_type": "markdown",
   "id": "8fab58a2-1650-452a-9e60-1b1fd5ea53df",
   "metadata": {},
   "source": [
    "Check the result. The windows might be on top of each other, so move them next to each other."
   ]
  },
  {
   "cell_type": "markdown",
   "id": "77b38bbe-ac2d-472d-aa5c-c96a229c9466",
   "metadata": {},
   "source": [
    "Close the map windows from Aguila."
   ]
  },
  {
   "cell_type": "markdown",
   "id": "bdb0ef4b-4e86-479a-b7f6-8a27aa2636e3",
   "metadata": {},
   "source": [
    "Now check the value at the outlet in Rupelmonde:"
   ]
  },
  {
   "cell_type": "markdown",
   "id": "50c0f973-6340-444e-b469-0999f9894f05",
   "metadata": {
    "tags": []
   },
   "source": [
    "`aguila emistot2006 Rupelmonde`"
   ]
  },
  {
   "cell_type": "markdown",
   "id": "f0eadfdf-9db5-482b-b6fa-c60d220513fa",
   "metadata": {},
   "source": [
    "**Question 6: Calculate the total nitrogen emission for the year 2000. What was the total nitrogen load emitted into the river in Rupelmonde in that year? Also give units.\n",
    "Steps: (a) Calculate the total nitrogen emission for the year 2000 in the same way as has been done for 2006 in the example above. Visualise the result; (b) Change the legend so Rupelmonde is visible; (c) Read the value of the pixel at Rupelmonde.**\n"
   ]
  },
  {
   "cell_type": "markdown",
   "id": "fb6cf236-125d-4e20-b848-b5749cfdfa14",
   "metadata": {},
   "source": [
    "In addition to mathematical operators (adding, subtracting, multiplying, dividing, powers and roots) GIS systems also have spatial functions. For example, with the `slope` function we can calculate the slope from a DEM (digital elevation map). Let's execute the following Python code to read the digital elevation model to the variable DEM and calculate the slope:"
   ]
  },
  {
   "cell_type": "code",
   "execution_count": null,
   "id": "d8e5a7e1-f2cd-4e6f-a503-113efe45e8d6",
   "metadata": {
    "tags": []
   },
   "outputs": [],
   "source": [
    "DEM = readmap(\"dem.map\")\n",
    "slopeMap = slope(DEM)\n",
    "report(slopeMap,\"slope.map\")"
   ]
  },
  {
   "cell_type": "markdown",
   "id": "c4374237-2922-4711-9bfc-4a8e54cf835f",
   "metadata": {},
   "source": [
    "Download and visualise the slope map:"
   ]
  },
  {
   "cell_type": "markdown",
   "id": "727047a1-0794-4186-b0cf-2c81b2f55e05",
   "metadata": {
    "tags": []
   },
   "source": [
    "`aguila slope.map`"
   ]
  },
  {
   "cell_type": "markdown",
   "id": "987a64df-2349-4e90-add7-13e29b1c30df",
   "metadata": {},
   "source": [
    "Mathematically, a slope map is calculated by taking the derivative of the elevation map. The values in the slope map therefore represent the change in elevation (dz) over distance (dx), where 0 means 'flat' and 1 means 'a slope of 45º', or:\n",
    "\n",
    "$slope = \\frac{dz}{dx}$\n",
    "\n",
    "In order to create a map showing the slope in degrees we need to calculate the inverse tangent of the map:"
   ]
  },
  {
   "cell_type": "code",
   "execution_count": null,
   "id": "fdcc7793-9561-4f2a-89ff-3b591cfd2931",
   "metadata": {
    "tags": []
   },
   "outputs": [],
   "source": [
    "slopeDeg = scalar(atan(slopeMap))\n",
    "report(slopeDeg,\"slopedeg.map\")"
   ]
  },
  {
   "cell_type": "markdown",
   "id": "c1771bb2-193c-409b-a04b-18c342c17d33",
   "metadata": {},
   "source": [
    "Download and visualise `slopeDeg`."
   ]
  },
  {
   "cell_type": "markdown",
   "id": "5b2c79bd-acdb-4228-95bb-f553b0f9964d",
   "metadata": {},
   "source": [
    "In order to calculate the maximum slope of the area, we can use the `mapmaximum` function:"
   ]
  },
  {
   "cell_type": "code",
   "execution_count": null,
   "id": "a61520fe-fcef-49d3-8600-6e72fc64cbcc",
   "metadata": {
    "tags": []
   },
   "outputs": [],
   "source": [
    "slopeMax = mapmaximum(slopeDeg)\n",
    "report(slopeMax,\"slopemax.map\")"
   ]
  },
  {
   "cell_type": "markdown",
   "id": "7e271bc2-6d15-463f-b0e6-9fd4857b4340",
   "metadata": {},
   "source": [
    "Download and visualise `slopeMax`."
   ]
  },
  {
   "cell_type": "markdown",
   "id": "f46c6e6e-bed6-42e8-b50f-83f7243039de",
   "metadata": {},
   "source": [
    "**Question 7: What is the maximum slope in degrees in the Scheldt catchment?**"
   ]
  },
  {
   "cell_type": "markdown",
   "id": "c87513d7-edc5-4a94-a910-5fd030301766",
   "metadata": {},
   "source": [
    "# 5. Introduction to scripting"
   ]
  },
  {
   "cell_type": "markdown",
   "id": "3438273a-b197-4d06-bd45-ad65776309c7",
   "metadata": {},
   "source": [
    "By writing a sequence of map algebra calculations we develop a script. With a script we can perform a sequence of calculations for a specific moment or iterate the sequence for a number of time steps. Iteration means that the calculations are repeated for every time step, whereby results from one time step are passed to the next time step. In that case we have a dynamic script. The transport module of the PolFlow - Scheldt model is an example of a dynamic script.\n",
    "\n",
    "Let's have a look at a dynamic modelling script:\n",
    "```Python\n",
    "from pcraster import *\n",
    "from pcraster.framework import *\n",
    "\n",
    "class RunoffModel(DynamicModel):\n",
    "    def __init__(self, cloneMap):\n",
    "        DynamicModel.__init__(self)\n",
    "        setclone(cloneMap)\n",
    "    \n",
    "    def initial(self):\n",
    "        # Here you write the code that has to be run only once.\n",
    "        return\n",
    "\n",
    "    def dynamic(self):\n",
    "        # Here you write the code that needs to be executed every time step.\n",
    "        return\n",
    "        \n",
    "myModel = RunoffModel(\"mask.map\")\n",
    "dynModelFw = DynamicFramework(myModel, lastTimeStep=100, firstTimestep=1)\n",
    "dynModelFw.run()\n",
    "```\n",
    "\n",
    "When you make your own model you need to change the following in this template:\n",
    "\n",
    "1. Define the clone map. In this case it's called `mask.map`. All raster maps need to have the same properties as the clone map (i.e. same number of rows and collumns, coordinate system, extent, pixels size). PCRaster checks this when the code is run.\n",
    "2. Define the time steps. Here `lastTimeStep=100` and `firstTimestep=1` means that the model runs 100 time steps starting at time step 1.\n",
    "3. Under `def initial(self)` you write code that needs to be run only once, i.e. for model initialisation.\n",
    "4. Under `def dynamic(self)` you write code that needs to be executed every time step., i.e. the iterations.\n",
    "\n",
    "Let's have a look at how this works by running the code below."
   ]
  },
  {
   "cell_type": "code",
   "execution_count": null,
   "id": "884a0a59-9f8a-4bf7-9117-ae15f450a54d",
   "metadata": {
    "tags": []
   },
   "outputs": [],
   "source": [
    "from pcraster import *\n",
    "from pcraster.framework import *\n",
    "\n",
    "class PolFlowModel(DynamicModel):\n",
    "    def __init__(self, cloneMap):\n",
    "        DynamicModel.__init__(self)\n",
    "        setclone(cloneMap)\n",
    "    \n",
    "    def initial(self):\n",
    "        # Here you write the code that has to be run only once.\n",
    "        return\n",
    "        \n",
    "    def dynamic(self):\n",
    "        # Here you write the code that has to be executed every time step.\n",
    "        return\n",
    "        \n",
    "myModel = PolFlowModel(\"catchment.map\")\n",
    "dynModelFw = DynamicFramework(myModel, lastTimeStep=68, firstTimestep=1)\n",
    "dynModelFw.run()"
   ]
  },
  {
   "cell_type": "markdown",
   "id": "25739bfe-8ef5-4446-ba95-bf289be6c19e",
   "metadata": {},
   "source": [
    "Note that for each iteration in the `dynamic` section it prints a `.`"
   ]
  },
  {
   "cell_type": "markdown",
   "id": "5e59f464-474b-4ee5-910a-9225636886b7",
   "metadata": {},
   "source": [
    "Below you'll see the PolFlow Transport module.\n",
    "\n",
    "```Python\n",
    "from pcraster import *\n",
    "from pcraster.framework import *\n",
    "\n",
    "class PolFlowModel(DynamicModel):\n",
    "    def __init__(self, cloneMap):\n",
    "        DynamicModel.__init__(self)\n",
    "        setclone(cloneMap)\n",
    "    \n",
    "    def initial(self):\n",
    "        # Input data\n",
    "        self.Mask = self.readmap(\"catchment\")            # Map with value 1 for the Scheldt catchment\n",
    "        DEM = self.readmap(\"dem\")                   # Elevation map (m)\n",
    "        self.Lossparameter1 = 50                        # Calibration parameter rn1 (s/m3)\n",
    "        self.Lossparameter2 = 0.5                       # Calibration parameter rn2 (-)\n",
    "        self.LDD = self.readmap(\"ldd\")              # Local drain direction map\n",
    "        self.Location = self.readmap(\"rupelmonde\")  # Location of reporting results\n",
    "        \n",
    "             \n",
    "        # Initialise time series output data\n",
    "        LoadAtLoc = \"loadloc.tss\" # Table with loads at the reporting location (kg/yr)\n",
    "        self.LoadAtLocTSS = TimeoutputTimeseries(LoadAtLoc, \n",
    "                                                 self, \n",
    "                                                 self.Location, \n",
    "                                                 noHeader=False)\n",
    "        LoadIndAtLoc = \"indloc.tss\" # Table with loads at reporting location caused by diffuse sources (kg/yr)\n",
    "        self.LoadIndAtLocTSS = TimeoutputTimeseries(LoadIndAtLoc, \n",
    "                                                 self, \n",
    "                                                 self.Location, \n",
    "                                                 noHeader=False)\n",
    "        DischargeAtLoc = \"qloc.tss\" # Average yearly discharge at the reporting location (m3/s)\n",
    "        self.DischargeAtLocTSS = TimeoutputTimeseries(DischargeAtLoc, \n",
    "                                                 self, \n",
    "                                                 self.Location, \n",
    "                                                 noHeader=False)\n",
    "        \n",
    "        # Initial calculations\n",
    "        self.Slope = \n",
    "        report(self.Slope,\"slope\")\n",
    "        return\n",
    "        \n",
    "    def dynamic(self):\n",
    "        Discharge = self.readmap(\"qaccumrd\") # Time series with yearly average discharge (m3/s) per cell\n",
    "        LandLoss = (1-(1/(1+((self.Lossparameter1*((1000*self.Slope)+1))*Discharge**self.Lossparameter2))))\n",
    "        \n",
    "        # Reading the N inputs\n",
    "        TotalIndirectInputs = self.readmap(\"totalind\") # Time series with diffuse nitrogen input (kg/km2/yr)\n",
    "        TotalDirectInputs = self.readmap(\"epointr\") # Time series with nitrogen input from point sources (kg/km2/yr)\n",
    "        \n",
    "        # Calculation of the loads (kg/yr)\n",
    "        TotalEmission = \n",
    "        Load = scalar(self.Mask) * (accufractionflux(self.LDD,TotalEmission,LandLoss))\n",
    "        \n",
    "        # Calculationm of the concentrations (mg/l)\n",
    "        YearlyDischarge = Discharge\n",
    "        \n",
    "        # Write results to disk\n",
    "        self.report(TotalEmission,\"totem\")\n",
    "        self.report(Load,\"load\")\n",
    "\n",
    "        self.LoadAtLocTSS.sample(Load)\n",
    "        self.DischargeAtLocTSS.sample(Discharge)\n",
    "        return\n",
    "        \n",
    "myModel = PolFlowModel(\"catchment.map\")\n",
    "dynModelFw = DynamicFramework(myModel, lastTimeStep=68, firstTimestep=1)\n",
    "dynModelFw.run()\n",
    "```\n",
    "\n",
    "Comments are written after the `#` symbol. This part is not executed by the computer, but assists the reader of the script.\n",
    "\n",
    "Read the script and try to get a general understanding of the meaning of the commands. For example, you can see that the equation of the transport fraction is converted to map algebra. With the `self.readmap` function maps from map series are read from the hard disk at the proper time step. By typing `self.report` at a line, variables (maps) can be written to the hard disk using the filename defined as a string. For each time step an extension (`.001`, `.002` etc.) will be used, resulting in a map series after the execution of the script. It is also possible to write tables to disk, using the `timeoutputTimeseries` function to define the table to write the nitrogen load at Rupelmonde for each time step. The `accufractionflux` function is used to routes the nitrogen over the local drain direction map to the outflow point, while removing a fraction in every grid cell. This fraction has already been calculated as `Landloss`.\n",
    "\n",
    "There are some parts missing in the script. \n",
    "\n",
    "1. In the `initial` section we have to calculate the slope map from the DEM once (it is constant for all time steps) like we did before. It is sufficient to calculate the slope as a derivative. We don't need it in degrees. So we can type `self.Slope = slope(DEM)`.\n",
    "2. In the `dynamic` section the summation of point and diffuse sources, what we did earlier for a specific time step, is missing.\n",
    "\n",
    "Add these two parts to the script below and run it."
   ]
  },
  {
   "cell_type": "code",
   "execution_count": null,
   "id": "93eab94b-a0d5-4145-8c67-b17d4969891d",
   "metadata": {
    "tags": []
   },
   "outputs": [],
   "source": [
    "from pcraster import *\n",
    "from pcraster.framework import *\n",
    "\n",
    "class PolFlowModel(DynamicModel):\n",
    "    def __init__(self, cloneMap):\n",
    "        DynamicModel.__init__(self)\n",
    "        setclone(cloneMap)\n",
    "    \n",
    "    def initial(self):\n",
    "        # Input data\n",
    "        self.Mask = self.readmap(\"catchment\")            # Map with value 1 for the Scheldt catchment\n",
    "        DEM = self.readmap(\"dem\")                   # Elevation map (m)\n",
    "        self.Lossparameter1 = 50                        # Calibration parameter rn1 (s/m3)\n",
    "        self.Lossparameter2 = 0.5                       # Calibration parameter rn2 (-)\n",
    "        self.LDD = self.readmap(\"ldd\")              # Local drain direction map\n",
    "        self.Location = self.readmap(\"rupelmonde\")  # Location of reporting results\n",
    "        \n",
    "             \n",
    "        # Initialise time series output data\n",
    "        LoadAtLoc = \"loadloc.tss\" # Table with loads at the reporting location (kg/yr)\n",
    "        self.LoadAtLocTSS = TimeoutputTimeseries(LoadAtLoc, \n",
    "                                                 self, \n",
    "                                                 self.Location, \n",
    "                                                 noHeader=False)\n",
    "        LoadIndAtLoc = \"indloc.tss\" # Table with loads at reporting location caused by diffuse sources (kg/yr)\n",
    "        self.LoadIndAtLocTSS = TimeoutputTimeseries(LoadIndAtLoc, \n",
    "                                                 self, \n",
    "                                                 self.Location, \n",
    "                                                 noHeader=False)\n",
    "        DischargeAtLoc = \"qloc.tss\" # Average yearly discharge at the reporting location (m3/s)\n",
    "        self.DischargeAtLocTSS = TimeoutputTimeseries(DischargeAtLoc, \n",
    "                                                 self, \n",
    "                                                 self.Location, \n",
    "                                                 noHeader=False)\n",
    "        \n",
    "        # Initial calculations\n",
    "        self.Slope = \n",
    "        self.report(self.Slope,\"slope\")\n",
    "        return\n",
    "        \n",
    "    def dynamic(self):\n",
    "        Discharge = self.readmap(\"qaccumrd\") # Time series with yearly average discharge (m3/s) per cell\n",
    "        LandLoss = (1-(1/(1+((self.Lossparameter1*((1000*self.Slope)+1))*Discharge**self.Lossparameter2))))\n",
    "        \n",
    "        # Reading the N inputs\n",
    "        TotalIndirectInputs = self.readmap(\"totalind\") # Time series with diffuse nitrogen input (kg/km2/yr)\n",
    "        TotalDirectInputs = self.readmap(\"epointr\") # Time series with nitrogen input from point sources (kg/km2/yr)\n",
    "        \n",
    "        # Calculation of the loads (kg/yr)\n",
    "        TotalEmission = TotalIndirectInputs + TotalDirectInputs\n",
    "        Load = scalar(self.Mask) * (accufractionflux(self.LDD,TotalEmission,LandLoss))\n",
    "        \n",
    "        # Calculationm of the concentrations (mg/l)\n",
    "        YearlyDischarge = Discharge\n",
    "        \n",
    "        # Write results to disk\n",
    "        self.report(TotalEmission,\"totem\")\n",
    "        self.report(Load,\"load\")\n",
    "\n",
    "        self.LoadAtLocTSS.sample(Load)\n",
    "        self.DischargeAtLocTSS.sample(Discharge)\n",
    "        return\n",
    "        \n",
    "myModel = PolFlowModel(\"catchment.map\")\n",
    "dynModelFw = DynamicFramework(myModel, lastTimeStep=68, firstTimestep=1)\n",
    "dynModelFw.run()"
   ]
  },
  {
   "cell_type": "markdown",
   "id": "b4d05921-ac81-4f86-90b8-9453b93e6697",
   "metadata": {},
   "source": [
    "Policy makers prefer maps and tables with concentration (mass Nitrogen per volume of water, mg/l) over loads (mass nitrogen per year, kg/yr), because the legally permitted amounts of nitrogen (the norms) in surface are also given as concentration. It is important to calculate concentration with the right units, mg/l. With our recently gained knowledge on map algebra we can now calculate the right concentration using the following equation:\n",
    "\n",
    "$C = \\frac{L}{Q}$\n",
    "\n",
    "where $C$ is the concentration, $L$ is the load and $Q$ is the discharge. Here you divide the nitrogen mass per time unit by the amount of water per time unit. This gives the mass per amount of water: the concentration. Let's start with making the units the same.\n",
    "\n",
    "The discharge $Q$ is now in m<sup>3</sup>/s. \n",
    "1. What do you have to do to convert 1 m<sup>3</sup>/s  to 1 m<sup>3</sup>/year? \n",
    "2. Complete the script in such a way that $Q$ is calculated in m<sup>3</sup>/year.\n",
    "3. Complete the script in such a way that concentration is calculated in mg/l by following these steps: \n",
    "    * concentration is calculated in kg/m<sup>3</sup> \n",
    "    * Determine how to convert kg/m<sup>3</sup> to mg/l\n",
    "    * Complete script in such a wat that concentration is calculated in mg/l.\n"
   ]
  },
  {
   "cell_type": "code",
   "execution_count": null,
   "id": "294c9c71-419c-4bb3-8b16-ec19ce3018da",
   "metadata": {
    "tags": []
   },
   "outputs": [],
   "source": [
    "from pcraster import *\n",
    "from pcraster.framework import *\n",
    "\n",
    "class PolFlowModel(DynamicModel):\n",
    "    def __init__(self, cloneMap):\n",
    "        DynamicModel.__init__(self)\n",
    "        setclone(cloneMap)\n",
    "    \n",
    "    def initial(self):\n",
    "        # Input data\n",
    "        self.Mask = self.readmap(\"catchment\")            # Map with value 1 for the Scheldt catchment\n",
    "        DEM = self.readmap(\"dem\")                   # Elevation map (m)\n",
    "        self.Lossparameter1 = 50                        # Calibration parameter rn1 (s/m3)\n",
    "        self.Lossparameter2 = 0.5                       # Calibration parameter rn2 (-)\n",
    "        self.LDD = self.readmap(\"ldd\")              # Local drain direction map\n",
    "        self.Location = self.readmap(\"rupelmonde\")  # Location of reporting results\n",
    "        \n",
    "             \n",
    "        # Initialise time series output data\n",
    "        LoadAtLoc = \"loadloc.tss\" # Table with loads at the reporting location (kg/yr)\n",
    "        self.LoadAtLocTSS = TimeoutputTimeseries(LoadAtLoc, \n",
    "                                                 self, \n",
    "                                                 self.Location, \n",
    "                                                 noHeader=False)\n",
    "        ConcAtLoc = \"concloc.tss\" # Table with concentration at the reporting location (g/l)\n",
    "        self.ConcAtLocTSS = TimeoutputTimeseries(ConcAtLoc, \n",
    "                                                 self, \n",
    "                                                 self.Location, \n",
    "                                                 noHeader=False)\n",
    "        LoadIndAtLoc = \"indloc.tss\" # Table with loads at reporting location caused by diffuse sources (kg/yr)\n",
    "        self.LoadIndAtLocTSS = TimeoutputTimeseries(LoadIndAtLoc, \n",
    "                                                 self, \n",
    "                                                 self.Location, \n",
    "                                                 noHeader=False)\n",
    "        DischargeAtLoc = \"qloc.tss\" # Average yearly discharge at the reporting location (m3/s)\n",
    "        self.DischargeAtLocTSS = TimeoutputTimeseries(DischargeAtLoc, \n",
    "                                                 self, \n",
    "                                                 self.Location, \n",
    "                                                 noHeader=False)\n",
    "        \n",
    "        # Initial calculations\n",
    "        self.Slope = slope(DEM)\n",
    "        self.report(self.Slope,\"slope\")\n",
    "        return\n",
    "        \n",
    "    def dynamic(self):\n",
    "        Discharge = self.readmap(\"qaccumrd\") # Time series with yearly average discharge (m3/s) per cell\n",
    "        LandLoss = (1-(1/(1+((self.Lossparameter1*((1000*self.Slope)+1))*Discharge**self.Lossparameter2))))\n",
    "        \n",
    "        # Reading the N inputs\n",
    "        TotalIndirectInputs = self.readmap(\"totalind\") # Time series with diffuse nitrogen input (kg/km2/yr)\n",
    "        TotalDirectInputs = self.readmap(\"epointr\") # Time series with nitrogen input from point sources (kg/km2/yr)\n",
    "        \n",
    "        # Calculation of the loads (kg/yr)\n",
    "        TotalEmission = TotalIndirectInputs + TotalDirectInputs\n",
    "        Load = scalar(self.Mask) * (accufractionflux(self.LDD,TotalEmission,LandLoss))\n",
    "        \n",
    "        # Calculationm of the concentrations (mg/l)\n",
    "        YearlyDischarge = Discharge \n",
    "        Concentration = (Load / YearlyDischarge) \n",
    "        \n",
    "        # Write results to disk\n",
    "        self.report(TotalEmission,\"totem\")\n",
    "        self.report(Load,\"load\")\n",
    "        self.report(Concentration,\"conc\")\n",
    "        \n",
    "        self.LoadAtLocTSS.sample(Load)\n",
    "        self.DischargeAtLocTSS.sample(Discharge)\n",
    "        self.ConcAtLocTSS.sample(Concentration)\n",
    "        return\n",
    "        \n",
    "myModel = PolFlowModel(\"catchment.map\")\n",
    "dynModelFw = DynamicFramework(myModel, lastTimeStep=68, firstTimestep=1)\n",
    "dynModelFw.run()"
   ]
  },
  {
   "cell_type": "markdown",
   "id": "eb350657-d692-4599-8371-7e2550f9a446",
   "metadata": {},
   "source": [
    "The final model should look like this:"
   ]
  },
  {
   "cell_type": "code",
   "execution_count": null,
   "id": "fbf146f6-333b-49aa-9fea-33b58af737d7",
   "metadata": {
    "tags": []
   },
   "outputs": [],
   "source": [
    "from pcraster import *\n",
    "from pcraster.framework import *\n",
    "\n",
    "class PolFlowModel(DynamicModel):\n",
    "    def __init__(self, cloneMap):\n",
    "        DynamicModel.__init__(self)\n",
    "        setclone(cloneMap)\n",
    "    \n",
    "    def initial(self):\n",
    "        # Input data\n",
    "        self.Mask = self.readmap(\"catchment\")            # Map with value 1 for the Scheldt catchment\n",
    "        DEM = self.readmap(\"dem\")                   # Elevation map (m)\n",
    "        self.Lossparameter1 = 50                        # Calibration parameter rn1 (s/m3)\n",
    "        self.Lossparameter2 = 0.5                       # Calibration parameter rn2 (-)\n",
    "        self.LDD = self.readmap(\"ldd\")              # Local drain direction map\n",
    "        self.Location = self.readmap(\"rupelmonde\")  # Location of reporting results\n",
    "        \n",
    "             \n",
    "        # Initialise time series output data\n",
    "        LoadAtLoc = \"loadloc.tss\" # Table with loads at the reporting location (kg/yr)\n",
    "        self.LoadAtLocTSS = TimeoutputTimeseries(LoadAtLoc, \n",
    "                                                 self, \n",
    "                                                 self.Location, \n",
    "                                                 noHeader=False)\n",
    "        ConcAtLoc = \"concloc.tss\" # Table with concentration at the reporting location (g/l)\n",
    "        self.ConcAtLocTSS = TimeoutputTimeseries(ConcAtLoc, \n",
    "                                                 self, \n",
    "                                                 self.Location, \n",
    "                                                 noHeader=False)\n",
    "        LoadIndAtLoc = \"indloc.tss\" # Table with loads at reporting location caused by diffuse sources (kg/yr)\n",
    "        self.LoadIndAtLocTSS = TimeoutputTimeseries(LoadIndAtLoc, \n",
    "                                                 self, \n",
    "                                                 self.Location, \n",
    "                                                 noHeader=False)\n",
    "        DischargeAtLoc = \"qloc.tss\" # Average yearly discharge at the reporting location (m3/s)\n",
    "        self.DischargeAtLocTSS = TimeoutputTimeseries(DischargeAtLoc, \n",
    "                                                 self, \n",
    "                                                 self.Location, \n",
    "                                                 noHeader=False)\n",
    "        \n",
    "        # Initial calculations\n",
    "        self.Slope = slope(DEM)\n",
    "        self.report(self.Slope,\"slope\")\n",
    "        return\n",
    "        \n",
    "    def dynamic(self):\n",
    "        Discharge = self.readmap(\"qaccumrd\") # Time series with yearly average discharge (m3/s) per cell\n",
    "        LandLoss = (1-(1/(1+((self.Lossparameter1*((1000*self.Slope)+1))*Discharge**self.Lossparameter2))))\n",
    "        \n",
    "        # Reading the N inputs\n",
    "        TotalIndirectInputs = self.readmap(\"totalind\") # Time series with diffuse nitrogen input (kg/km2/yr)\n",
    "        TotalDirectInputs = self.readmap(\"epointr\") # Time series with nitrogen input from point sources (kg/km2/yr)\n",
    "        \n",
    "        # Calculation of the loads (kg/yr)\n",
    "        TotalEmission = TotalIndirectInputs + TotalDirectInputs\n",
    "        Load = scalar(self.Mask) * (accufractionflux(self.LDD,TotalEmission,LandLoss))\n",
    "        \n",
    "        # Calculationm of the concentrations (mg/l)\n",
    "        YearlyDischarge = Discharge * 60 * 60 * 24 * 365\n",
    "        Concentration = (Load / YearlyDischarge) * 1000\n",
    "        \n",
    "        # Write results to disk\n",
    "        self.report(TotalEmission,\"totem\")\n",
    "        self.report(Load,\"load\")\n",
    "        self.report(Concentration,\"conc\")\n",
    "        \n",
    "        self.LoadAtLocTSS.sample(Load)\n",
    "        self.DischargeAtLocTSS.sample(Discharge)\n",
    "        self.ConcAtLocTSS.sample(Concentration)\n",
    "        return\n",
    "        \n",
    "myModel = PolFlowModel(\"catchment.map\")\n",
    "dynModelFw = DynamicFramework(myModel, lastTimeStep=68, firstTimestep=1)\n",
    "dynModelFw.run()"
   ]
  },
  {
   "cell_type": "markdown",
   "id": "ff7cb205-88c3-4d9e-b0b4-abf6213a5f01",
   "metadata": {},
   "source": [
    "This is the base scenario.\n",
    "We'll download the whole folder as we did before. First zip the files:"
   ]
  },
  {
   "cell_type": "code",
   "execution_count": null,
   "id": "4063427e-fd8a-4176-8cba-c4e48a316c7b",
   "metadata": {},
   "outputs": [],
   "source": [
    "!tar -czvf polflow_data_base.tar.gz *"
   ]
  },
  {
   "cell_type": "markdown",
   "id": "7b80fcce-1a78-456f-b2f2-6b8789af5808",
   "metadata": {},
   "source": [
    "Then download and extract the folder. Save the files to a folder Polflow_Base, so we can separate the results from the scenarios that we'll do later.\n",
    "\n",
    "Remove the zipfile:"
   ]
  },
  {
   "cell_type": "code",
   "execution_count": null,
   "id": "c2806a13-89f8-4e82-b54f-0ecae632215b",
   "metadata": {},
   "outputs": [],
   "source": [
    "rm *.gz"
   ]
  },
  {
   "cell_type": "markdown",
   "id": "123e07af-64e2-4fd7-813d-71d5eea5be37",
   "metadata": {
    "tags": []
   },
   "source": [
    "Visualise the result:\n",
    "`aguila --timesteps=[1,68,1] load conc totem`"
   ]
  },
  {
   "cell_type": "markdown",
   "id": "4da7a371-9118-4638-8fde-8b31b7a25e6d",
   "metadata": {},
   "source": [
    "The model also saved tables that have been created with the `timeoutputTimeseries` function. These tables have the extension `.tss`. We can also visualise the tables as a graph using Aguila:"
   ]
  },
  {
   "cell_type": "markdown",
   "id": "e0704a8b-996b-4e8f-9979-74256ea5809f",
   "metadata": {
    "tags": []
   },
   "source": [
    "`aguila loadloc.tss concloc.tss qloc.tss`"
   ]
  },
  {
   "cell_type": "markdown",
   "id": "19a342dd-eea8-4ff2-a402-c03ffcb80c58",
   "metadata": {},
   "source": [
    "**Question 8: What was the maximum nitrogen concentration in Rupelmonde? Also give units.**"
   ]
  },
  {
   "cell_type": "markdown",
   "id": "e680f74c-d938-41ec-aa7e-9f7a41ab35b5",
   "metadata": {},
   "source": []
  },
  {
   "cell_type": "markdown",
   "id": "9fb56b6c-eb56-4b9d-b443-5762405d2e44",
   "metadata": {},
   "source": [
    "**Question 9: In which year was the peak in concentration?**"
   ]
  },
  {
   "cell_type": "markdown",
   "id": "3075eb2c-f637-4c06-95fe-dc149d877689",
   "metadata": {},
   "source": []
  },
  {
   "cell_type": "markdown",
   "id": "ecee1991-bf7b-4078-b620-557a23181a2b",
   "metadata": {},
   "source": [
    "**Question 10: Was that a year with a high or a low discharge at Rupelmonde?**"
   ]
  },
  {
   "cell_type": "markdown",
   "id": "9d953115-8736-4abf-bd69-52c620fd8f70",
   "metadata": {},
   "source": []
  },
  {
   "cell_type": "markdown",
   "id": "77b1a180-c59a-4183-a8d4-c91332204d02",
   "metadata": {},
   "source": [
    "# 6. Sensitivity analysis, calibration and scenarios\n",
    "\n",
    "After programming the model, we need to *calibrate* it. You probably already noticed that in the `initial` section of the script two calibration parameters are defined. The values of these parameters can be determined by comparison of simulation results with observed measurements of nitrogen concentration in surface water. Next, the values of these parameters are adapted in such a way that model results fit the measurements as good as possible (*fitting*). This can be performed manually (*eye-ball fitting*) or automatically. In this exercise we are going to perform a manual calibration using an artificial measurement.\n",
    "\n",
    "Before calibration, however, we first need to check the sensitivity of the modelled nitrogen concentration at Rupelmonde to changes in these parameters. This is called a *sensitivity analysis*.\n",
    "\n",
    "Before experimenting, please make note of the current value of the nitrate concentration in the Scheldt at Rupelmonde in 2007 in the field below:"
   ]
  },
  {
   "cell_type": "markdown",
   "id": "6ee07dae-0c04-4ec6-b71f-d9a7f195f708",
   "metadata": {},
   "source": []
  },
  {
   "cell_type": "markdown",
   "id": "53cff1e3-7727-4cc0-8b61-f410cf03cfd9",
   "metadata": {},
   "source": [
    "Use the script below to model the following changes:\n",
    "1. Describe the effect of doubling the value of `Lossparameter1` on the concentration at Rupelmonde in 2007.\n",
    "2. Put the value of `Lossparameter1` back to 50 and now double `Lossparameter2`. Again describe the effect on the concentration at Rupelmonde.\n",
    "\n",
    "Check in the steps before how to save the results to your hard disk for each scenario."
   ]
  },
  {
   "cell_type": "code",
   "execution_count": null,
   "id": "a8920438-f892-4c58-916e-4fc882f43e24",
   "metadata": {},
   "outputs": [],
   "source": [
    "from pcraster import *\n",
    "from pcraster.framework import *\n",
    "\n",
    "class PolFlowModel(DynamicModel):\n",
    "    def __init__(self, cloneMap):\n",
    "        DynamicModel.__init__(self)\n",
    "        setclone(cloneMap)\n",
    "    \n",
    "    def initial(self):\n",
    "        # Input data\n",
    "        self.Mask = self.readmap(\"catchment\")            # Map with value 1 for the Scheldt catchment\n",
    "        DEM = self.readmap(\"dem\")                   # Elevation map (m)\n",
    "        self.Lossparameter1 = 50                        # Calibration parameter rn1 (s/m3)\n",
    "        self.Lossparameter2 = 0.5                       # Calibration parameter rn2 (-)\n",
    "        self.LDD = self.readmap(\"ldd\")              # Local drain direction map\n",
    "        self.Location = self.readmap(\"rupelmonde\")  # Location of reporting results\n",
    "        \n",
    "             \n",
    "        # Initialise time series output data\n",
    "        LoadAtLoc = \"loadloc.tss\" # Table with loads at the reporting location (kg/yr)\n",
    "        self.LoadAtLocTSS = TimeoutputTimeseries(LoadAtLoc, \n",
    "                                                 self, \n",
    "                                                 self.Location, \n",
    "                                                 noHeader=False)\n",
    "        ConcAtLoc = \"concloc.tss\" # Table with concentration at the reporting location (g/l)\n",
    "        self.ConcAtLocTSS = TimeoutputTimeseries(ConcAtLoc, \n",
    "                                                 self, \n",
    "                                                 self.Location, \n",
    "                                                 noHeader=False)\n",
    "        LoadIndAtLoc = \"indloc.tss\" # Table with loads at reporting location caused by diffuse sources (kg/yr)\n",
    "        self.LoadIndAtLocTSS = TimeoutputTimeseries(LoadIndAtLoc, \n",
    "                                                 self, \n",
    "                                                 self.Location, \n",
    "                                                 noHeader=False)\n",
    "        DischargeAtLoc = \"qloc.tss\" # Average yearly discharge at the reporting location (m3/s)\n",
    "        self.DischargeAtLocTSS = TimeoutputTimeseries(DischargeAtLoc, \n",
    "                                                 self, \n",
    "                                                 self.Location, \n",
    "                                                 noHeader=False)\n",
    "        \n",
    "        # Initial calculations\n",
    "        self.Slope = slope(DEM)\n",
    "        self.report(self.Slope,\"slope\")\n",
    "        return\n",
    "        \n",
    "    def dynamic(self):\n",
    "        Discharge = self.readmap(\"qaccumrd\") # Time series with yearly average discharge (m3/s) per cell\n",
    "        LandLoss = (1-(1/(1+((self.Lossparameter1*((1000*self.Slope)+1))*Discharge**self.Lossparameter2))))\n",
    "        \n",
    "        # Reading the N inputs\n",
    "        TotalIndirectInputs = self.readmap(\"totalind\") # Time series with diffuse nitrogen input (kg/km2/yr)\n",
    "        TotalDirectInputs = self.readmap(\"epointr\") # Time series with nitrogen input from point sources (kg/km2/yr)\n",
    "        \n",
    "        # Calculation of the loads (kg/yr)\n",
    "        TotalEmission = TotalIndirectInputs + TotalDirectInputs\n",
    "        Load = scalar(self.Mask) * (accufractionflux(self.LDD,TotalEmission,LandLoss))\n",
    "        \n",
    "        # Calculationm of the concentrations (mg/l)\n",
    "        YearlyDischarge = Discharge * 60 * 60 * 24 * 365\n",
    "        Concentration = (Load / YearlyDischarge) * 1000\n",
    "        \n",
    "        # Write results to disk\n",
    "        self.report(TotalEmission,\"totem\")\n",
    "        self.report(Load,\"load\")\n",
    "        self.report(Concentration,\"conc\")\n",
    "        \n",
    "        self.LoadAtLocTSS.sample(Load)\n",
    "        self.DischargeAtLocTSS.sample(Discharge)\n",
    "        self.ConcAtLocTSS.sample(Concentration)\n",
    "        return\n",
    "        \n",
    "myModel = PolFlowModel(\"catchment.map\")\n",
    "dynModelFw = DynamicFramework(myModel, lastTimeStep=68, firstTimestep=1)\n",
    "dynModelFw.run()"
   ]
  },
  {
   "cell_type": "markdown",
   "id": "c6458a50-31ef-4025-a721-7902a75376a8",
   "metadata": {},
   "source": [
    "**Question 11: The quality of a model largely depends on (a) the sensitivity of a model to changes in the calibration parameters and (b) the extent to which the measurements used for fitting are representative for the period for which you want to make statements. Explain this.**"
   ]
  },
  {
   "cell_type": "markdown",
   "id": "fc93e032-b06f-4950-82a9-46a5791c50c6",
   "metadata": {},
   "source": [
    "Let's assume that the Vlaamse Milieu Maatschappij (VMM) provides a measurement of the concentration of nitrogen at Rupelmonde. The value for that measurement is 4.1 mg/l for 2007.\n",
    "\n",
    "Try to fit the simulation of the nitrogen concentration at Rupelmonde as good as possible by varying the calibration parameters (lossparameter 1 and 2). Give the optimal values that you have found for parameter 1 and 2. You can use the original script below:"
   ]
  },
  {
   "cell_type": "code",
   "execution_count": null,
   "id": "c0c3757c-b009-4a24-a753-96eb2d762916",
   "metadata": {},
   "outputs": [],
   "source": [
    "from pcraster import *\n",
    "from pcraster.framework import *\n",
    "\n",
    "class PolFlowModel(DynamicModel):\n",
    "    def __init__(self, cloneMap):\n",
    "        DynamicModel.__init__(self)\n",
    "        setclone(cloneMap)\n",
    "    \n",
    "    def initial(self):\n",
    "        # Input data\n",
    "        self.Mask = self.readmap(\"catchment\")            # Map with value 1 for the Scheldt catchment\n",
    "        DEM = self.readmap(\"dem\")                   # Elevation map (m)\n",
    "        self.Lossparameter1 = 50                        # Calibration parameter rn1 (s/m3)\n",
    "        self.Lossparameter2 = 0.5                       # Calibration parameter rn2 (-)\n",
    "        self.LDD = self.readmap(\"ldd\")              # Local drain direction map\n",
    "        self.Location = self.readmap(\"rupelmonde\")  # Location of reporting results\n",
    "        \n",
    "             \n",
    "        # Initialise time series output data\n",
    "        LoadAtLoc = \"loadloc.tss\" # Table with loads at the reporting location (kg/yr)\n",
    "        self.LoadAtLocTSS = TimeoutputTimeseries(LoadAtLoc, \n",
    "                                                 self, \n",
    "                                                 self.Location, \n",
    "                                                 noHeader=False)\n",
    "        ConcAtLoc = \"concloc.tss\" # Table with concentration at the reporting location (g/l)\n",
    "        self.ConcAtLocTSS = TimeoutputTimeseries(ConcAtLoc, \n",
    "                                                 self, \n",
    "                                                 self.Location, \n",
    "                                                 noHeader=False)\n",
    "        LoadIndAtLoc = \"indloc.tss\" # Table with loads at reporting location caused by diffuse sources (kg/yr)\n",
    "        self.LoadIndAtLocTSS = TimeoutputTimeseries(LoadIndAtLoc, \n",
    "                                                 self, \n",
    "                                                 self.Location, \n",
    "                                                 noHeader=False)\n",
    "        DischargeAtLoc = \"qloc.tss\" # Average yearly discharge at the reporting location (m3/s)\n",
    "        self.DischargeAtLocTSS = TimeoutputTimeseries(DischargeAtLoc, \n",
    "                                                 self, \n",
    "                                                 self.Location, \n",
    "                                                 noHeader=False)\n",
    "        \n",
    "        # Initial calculations\n",
    "        self.Slope = slope(DEM)\n",
    "        self.report(self.Slope,\"slope\")\n",
    "        return\n",
    "        \n",
    "    def dynamic(self):\n",
    "        Discharge = self.readmap(\"qaccumrd\") # Time series with yearly average discharge (m3/s) per cell\n",
    "        LandLoss = (1-(1/(1+((self.Lossparameter1*((1000*self.Slope)+1))*Discharge**self.Lossparameter2))))\n",
    "        \n",
    "        # Reading the N inputs\n",
    "        TotalIndirectInputs = self.readmap(\"totalind\") # Time series with diffuse nitrogen input (kg/km2/yr)\n",
    "        TotalDirectInputs = self.readmap(\"epointr\") # Time series with nitrogen input from point sources (kg/km2/yr)\n",
    "        \n",
    "        # Calculation of the loads (kg/yr)\n",
    "        TotalEmission = TotalIndirectInputs + TotalDirectInputs\n",
    "        Load = scalar(self.Mask) * (accufractionflux(self.LDD,TotalEmission,LandLoss))\n",
    "        \n",
    "        # Calculationm of the concentrations (mg/l)\n",
    "        YearlyDischarge = Discharge * 60 * 60 * 24 * 365\n",
    "        Concentration = (Load / YearlyDischarge) * 1000\n",
    "        \n",
    "        # Write results to disk\n",
    "        self.report(TotalEmission,\"totem\")\n",
    "        self.report(Load,\"load\")\n",
    "        self.report(Concentration,\"conc\")\n",
    "        \n",
    "        self.LoadAtLocTSS.sample(Load)\n",
    "        self.DischargeAtLocTSS.sample(Discharge)\n",
    "        self.ConcAtLocTSS.sample(Concentration)\n",
    "        return\n",
    "        \n",
    "myModel = PolFlowModel(\"catchment.map\")\n",
    "dynModelFw = DynamicFramework(myModel, lastTimeStep=68, firstTimestep=1)\n",
    "dynModelFw.run()"
   ]
  },
  {
   "cell_type": "markdown",
   "id": "223625f6-92ba-4b28-8210-7fc227dc7886",
   "metadata": {},
   "source": [
    "A big advantage of a model is that you can use it for experimentation and the calculation of so-called  *What-If Scenarios*. With the calibrated model, we can start testing our What-If Scenarios. Let's assume that climate scenarios predict that precipitation in the West of Europe increases due to climate changes. In that case (when other circumstances stay the same) also the discharge of the rivers will increase.\n",
    "\n",
    "**Question 12: How can you double discharge in the script? Copy your calibrated script to the field below and adapt the script to do this. What happens with the nitrogen concentration at Rupelmonde after doubling the discharge?**"
   ]
  },
  {
   "cell_type": "code",
   "execution_count": null,
   "id": "e605b7c0-884e-49f0-afc8-d7f4c85b101a",
   "metadata": {},
   "outputs": [],
   "source": []
  },
  {
   "cell_type": "markdown",
   "id": "32c28112-e1e2-4f06-8084-91e24b5110c1",
   "metadata": {},
   "source": [
    "Policy makers for river basins cannot do much about controlling climate change. Using the right measures, however, the policy makers can reduce the nitrogen concentrations in surface waters in such a way that they apply to the norms of the EU. By implementing more waste water treatment plants, for example, the quality of the surface water can be improved. Furthermore, the efficiency of the installations can be improved. We are going to simulate this.\n",
    "\n",
    "**Question 13: Copy your calibrated script and adjust it in such a way that the emission from point sources are reduced by 50%.**"
   ]
  },
  {
   "cell_type": "code",
   "execution_count": null,
   "id": "24e92e7a-a96f-4d86-85e5-6f6ae91581f5",
   "metadata": {},
   "outputs": [],
   "source": []
  },
  {
   "cell_type": "markdown",
   "id": "c28f2a21-f108-4952-a707-e65194a29f21",
   "metadata": {},
   "source": [
    "Another solution is to reduce the manure production at farms.\n",
    "\n",
    "**Question 14: Copy your calibrated script and adjust it in such a way that the emission from diffuse sources are reduced by 50%.**"
   ]
  },
  {
   "cell_type": "code",
   "execution_count": null,
   "id": "07e16bfe-d1a8-4c59-bf19-000dcc45e60e",
   "metadata": {},
   "outputs": [],
   "source": []
  },
  {
   "cell_type": "markdown",
   "id": "982e2e88-f43d-4893-9cf3-4823024a4ba4",
   "metadata": {},
   "source": [
    "**Question 15: What is more effective in reducing the nitrogen concentration at Rupelmonde: reducing the point emission with 50% or reducing the diffuse emissions by 50%?**"
   ]
  },
  {
   "cell_type": "markdown",
   "id": "b8788535-c108-4b9d-8586-11ef4f0c7e4f",
   "metadata": {},
   "source": []
  },
  {
   "cell_type": "markdown",
   "id": "b8f52a1d-cb6b-4576-b15a-964de361c7b4",
   "metadata": {},
   "source": [
    "Now we suspect that the nitrogen contribution from both sources is not equal.\n",
    "\n",
    "We are going to investigate the relative importance of both sources of nitrogen emissions. First we are going to switch off completely the input from point sources and then the input from diffuse sources by changing something in the script.\n",
    "\n",
    "**Question 16: Copy your calibrated script and switch off completely the point sources. Also try this for the diffuse sources and describe the results.**"
   ]
  },
  {
   "cell_type": "code",
   "execution_count": null,
   "id": "05cd83e4-04df-40f8-9cc6-b4d10869954f",
   "metadata": {},
   "outputs": [],
   "source": []
  },
  {
   "cell_type": "markdown",
   "id": "0affed36-ac56-4ebe-89dd-e3c03732b591",
   "metadata": {},
   "source": [
    "Write a policy advice for the government of Belgium. In this policy advice you address the effects of climate change on the nitrogen pollution in the Scheldt catchment. Furthermore you indicate what measures the government of Belgium should take to most effectively reduce nitrogen pollution in surface water (independently of climate change)."
   ]
  },
  {
   "cell_type": "markdown",
   "id": "5540b380-a3e6-492a-9c83-abb07d5a10b2",
   "metadata": {},
   "source": []
  }
 ],
 "metadata": {
  "kernelspec": {
   "display_name": "Python 3 (ipykernel)",
   "language": "python",
   "name": "python3"
  },
  "language_info": {
   "codemirror_mode": {
    "name": "ipython",
    "version": 3
   },
   "file_extension": ".py",
   "mimetype": "text/x-python",
   "name": "python",
   "nbconvert_exporter": "python",
   "pygments_lexer": "ipython3",
   "version": "3.13.2"
  }
 },
 "nbformat": 4,
 "nbformat_minor": 5
}
